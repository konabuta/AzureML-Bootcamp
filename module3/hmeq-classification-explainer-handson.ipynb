{
 "cells": [
  {
   "cell_type": "markdown",
   "metadata": {},
   "source": [
    "# 自動機械学習 Automated Machine Learning による離反予測モデリング & モデル解釈 (リモート高速実行)\n",
    "\n",
    "\n",
    "顧客属性データを用いて与信管理モデルを開発します。\n",
    "\n",
    "1. 事前準備\n",
    "    - Python SDK のインポート\n",
    "    - Azure ML `Workspace` への接続\n",
    "    - `Experiment` の作成\n",
    "    - `Dataset` の作成と登録\n",
    "2. 自動機械学習 Automated Machine Learning\n",
    "    - 計算環境 `Machine Learning Compute` の準備\n",
    "    - 自動機械学習 Automated ML の事前設定\n",
    "    - モデル学習と結果の確認\n",
    "3. モデル解釈"
   ]
  },
  {
   "cell_type": "markdown",
   "metadata": {},
   "source": [
    "## 1. 事前準備\n",
    "### Python SDK のインポート\n",
    "Azure Machine Learning の Python SDKをインポートします"
   ]
  },
  {
   "cell_type": "code",
   "execution_count": 1,
   "metadata": {},
   "outputs": [],
   "source": [
    "import azureml.core\n",
    "from azureml.core.experiment import Experiment\n",
    "from azureml.core.workspace import Workspace\n",
    "from azureml.core.dataset import Dataset\n",
    "from azureml.train.automl import AutoMLConfig"
   ]
  },
  {
   "cell_type": "markdown",
   "metadata": {},
   "source": [
    "Azure Machine Learning Python SDK のバージョンを確認します。"
   ]
  },
  {
   "cell_type": "code",
   "execution_count": 2,
   "metadata": {},
   "outputs": [
    {
     "name": "stdout",
     "output_type": "stream",
     "text": [
      "1.0.76\n"
     ]
    }
   ],
   "source": [
    "print(azureml.core.VERSION)"
   ]
  },
  {
   "cell_type": "code",
   "execution_count": 3,
   "metadata": {},
   "outputs": [],
   "source": [
    "# その他必要なライブラリを利用します\n",
    "import logging\n",
    "from matplotlib import pyplot as plt\n",
    "import pandas as pd\n",
    "import os\n",
    "import warnings\n",
    "\n",
    "# 警告メッセージを削除する\n",
    "warnings.showwarning = lambda *args, **kwargs: None"
   ]
  },
  {
   "cell_type": "markdown",
   "metadata": {},
   "source": [
    "### Azure ML workspace との接続\n",
    "Azure Machine Learning との接続を行います。Azure Active Directory の認証が必要です。"
   ]
  },
  {
   "cell_type": "code",
   "execution_count": 4,
   "metadata": {},
   "outputs": [],
   "source": [
    "# 明示的に接続情報を記載する場合\n",
    "subscription_id = '9c0f91b8-eb2f-484c-979c-15848c098a6b'\n",
    "resource_group = 'iothack'\n",
    "workspace_name = 'azureml-iot'\n",
    "workspace = Workspace(subscription_id, resource_group, workspace_name)"
   ]
  },
  {
   "cell_type": "code",
   "execution_count": null,
   "metadata": {},
   "outputs": [],
   "source": [
    "# 保存されている接続情報を利用する場合\n",
    "ws = Workspace.from_config()\n",
    "print(ws.name, ws.location, ws.resource_group, ws.location, sep = '\\t')"
   ]
  },
  {
   "cell_type": "markdown",
   "metadata": {},
   "source": [
    "### 実験名の設定\n",
    "Azure Machine Learing では 実験を管理する仕組みがあります。自動機械学習は自動的にその実験管理の仕組みでメトリックやログが残ります。"
   ]
  },
  {
   "cell_type": "code",
   "execution_count": 6,
   "metadata": {},
   "outputs": [],
   "source": [
    "# choose a name for experiment\n",
    "experiment_name = 'automl-classification-hmeq-dev'\n",
    "experiment=Experiment(workspace, experiment_name)"
   ]
  },
  {
   "cell_type": "markdown",
   "metadata": {},
   "source": [
    "### 学習データの準備"
   ]
  },
  {
   "cell_type": "markdown",
   "metadata": {},
   "source": [
    "Azure Machine Learning service の計算環境 (Machine Learning Compute) で学習を回すために、Azure Machine Learning service の Dataset のフォーマットでデータを定義します。"
   ]
  },
  {
   "cell_type": "code",
   "execution_count": 9,
   "metadata": {},
   "outputs": [
    {
     "data": {
      "text/html": [
       "<div>\n",
       "<style scoped>\n",
       "    .dataframe tbody tr th:only-of-type {\n",
       "        vertical-align: middle;\n",
       "    }\n",
       "\n",
       "    .dataframe tbody tr th {\n",
       "        vertical-align: top;\n",
       "    }\n",
       "\n",
       "    .dataframe thead th {\n",
       "        text-align: right;\n",
       "    }\n",
       "</style>\n",
       "<table border=\"1\" class=\"dataframe\">\n",
       "  <thead>\n",
       "    <tr style=\"text-align: right;\">\n",
       "      <th></th>\n",
       "      <th>不履行フラグ</th>\n",
       "      <th>融資依頼金額</th>\n",
       "      <th>未払担保金額</th>\n",
       "      <th>現在資産価値</th>\n",
       "      <th>債務理由</th>\n",
       "      <th>職種</th>\n",
       "      <th>勤務年数</th>\n",
       "      <th>信用調査会社問い合わせ数</th>\n",
       "      <th>延滞トレードライン数</th>\n",
       "      <th>最も古いトレードラインの月齢</th>\n",
       "      <th>最近のクレジットの問い合わせ数</th>\n",
       "      <th>トレード(クレジット)ラインの数</th>\n",
       "      <th>債務対所得の割合</th>\n",
       "    </tr>\n",
       "  </thead>\n",
       "  <tbody>\n",
       "    <tr>\n",
       "      <th>0</th>\n",
       "      <td>1</td>\n",
       "      <td>1100</td>\n",
       "      <td>25860.00</td>\n",
       "      <td>39025.00</td>\n",
       "      <td>HomeImp</td>\n",
       "      <td>Other</td>\n",
       "      <td>10.50</td>\n",
       "      <td>0.00</td>\n",
       "      <td>0.00</td>\n",
       "      <td>94.37</td>\n",
       "      <td>1.00</td>\n",
       "      <td>9.00</td>\n",
       "      <td>None</td>\n",
       "    </tr>\n",
       "    <tr>\n",
       "      <th>1</th>\n",
       "      <td>1</td>\n",
       "      <td>1300</td>\n",
       "      <td>70053.00</td>\n",
       "      <td>68400.00</td>\n",
       "      <td>HomeImp</td>\n",
       "      <td>Other</td>\n",
       "      <td>7.00</td>\n",
       "      <td>0.00</td>\n",
       "      <td>2.00</td>\n",
       "      <td>121.83</td>\n",
       "      <td>0.00</td>\n",
       "      <td>14.00</td>\n",
       "      <td>None</td>\n",
       "    </tr>\n",
       "    <tr>\n",
       "      <th>2</th>\n",
       "      <td>1</td>\n",
       "      <td>1500</td>\n",
       "      <td>13500.00</td>\n",
       "      <td>16700.00</td>\n",
       "      <td>HomeImp</td>\n",
       "      <td>Other</td>\n",
       "      <td>4.00</td>\n",
       "      <td>0.00</td>\n",
       "      <td>0.00</td>\n",
       "      <td>149.47</td>\n",
       "      <td>1.00</td>\n",
       "      <td>10.00</td>\n",
       "      <td>None</td>\n",
       "    </tr>\n",
       "    <tr>\n",
       "      <th>3</th>\n",
       "      <td>1</td>\n",
       "      <td>1500</td>\n",
       "      <td>nan</td>\n",
       "      <td>nan</td>\n",
       "      <td></td>\n",
       "      <td></td>\n",
       "      <td>nan</td>\n",
       "      <td>nan</td>\n",
       "      <td>nan</td>\n",
       "      <td>nan</td>\n",
       "      <td>nan</td>\n",
       "      <td>nan</td>\n",
       "      <td>None</td>\n",
       "    </tr>\n",
       "    <tr>\n",
       "      <th>4</th>\n",
       "      <td>0</td>\n",
       "      <td>1700</td>\n",
       "      <td>97800.00</td>\n",
       "      <td>112000.00</td>\n",
       "      <td>HomeImp</td>\n",
       "      <td>Office</td>\n",
       "      <td>3.00</td>\n",
       "      <td>0.00</td>\n",
       "      <td>0.00</td>\n",
       "      <td>93.33</td>\n",
       "      <td>0.00</td>\n",
       "      <td>14.00</td>\n",
       "      <td>None</td>\n",
       "    </tr>\n",
       "  </tbody>\n",
       "</table>\n",
       "</div>"
      ],
      "text/plain": [
       "   不履行フラグ  融資依頼金額   未払担保金額    現在資産価値     債務理由      職種  勤務年数  信用調査会社問い合わせ数  \\\n",
       "0       1    1100 25860.00  39025.00  HomeImp   Other 10.50          0.00   \n",
       "1       1    1300 70053.00  68400.00  HomeImp   Other  7.00          0.00   \n",
       "2       1    1500 13500.00  16700.00  HomeImp   Other  4.00          0.00   \n",
       "3       1    1500      nan       nan                    nan           nan   \n",
       "4       0    1700 97800.00 112000.00  HomeImp  Office  3.00          0.00   \n",
       "\n",
       "   延滞トレードライン数  最も古いトレードラインの月齢  最近のクレジットの問い合わせ数  トレード(クレジット)ラインの数 債務対所得の割合  \n",
       "0        0.00           94.37             1.00              9.00     None  \n",
       "1        2.00          121.83             0.00             14.00     None  \n",
       "2        0.00          149.47             1.00             10.00     None  \n",
       "3         nan             nan              nan               nan     None  \n",
       "4        0.00           93.33             0.00             14.00     None  "
      ]
     },
     "execution_count": 9,
     "metadata": {},
     "output_type": "execute_result"
    }
   ],
   "source": [
    "dataset = Dataset.get_by_name(workspace, name='hmeq')\n",
    "dataset.take(5).to_pandas_dataframe()"
   ]
  },
  {
   "cell_type": "code",
   "execution_count": 10,
   "metadata": {},
   "outputs": [],
   "source": [
    "#予測変数の指定\n",
    "label = '不履行フラグ'"
   ]
  },
  {
   "cell_type": "markdown",
   "metadata": {},
   "source": [
    "### 学習データとテストデータに分割\n",
    "※ハンズオンの都合上85%のデータをモデル学習で利用します。テストデータは後半のモデル解釈で利用されます。"
   ]
  },
  {
   "cell_type": "code",
   "execution_count": 38,
   "metadata": {},
   "outputs": [],
   "source": [
    "train_dataset, test_dataset = dataset.random_split(0.95, seed=12345)"
   ]
  },
  {
   "cell_type": "code",
   "execution_count": 39,
   "metadata": {},
   "outputs": [
    {
     "data": {
      "text/html": [
       "<div>\n",
       "<style scoped>\n",
       "    .dataframe tbody tr th:only-of-type {\n",
       "        vertical-align: middle;\n",
       "    }\n",
       "\n",
       "    .dataframe tbody tr th {\n",
       "        vertical-align: top;\n",
       "    }\n",
       "\n",
       "    .dataframe thead th {\n",
       "        text-align: right;\n",
       "    }\n",
       "</style>\n",
       "<table border=\"1\" class=\"dataframe\">\n",
       "  <thead>\n",
       "    <tr style=\"text-align: right;\">\n",
       "      <th></th>\n",
       "      <th>不履行フラグ</th>\n",
       "      <th>融資依頼金額</th>\n",
       "      <th>未払担保金額</th>\n",
       "      <th>現在資産価値</th>\n",
       "      <th>債務理由</th>\n",
       "      <th>職種</th>\n",
       "      <th>勤務年数</th>\n",
       "      <th>信用調査会社問い合わせ数</th>\n",
       "      <th>延滞トレードライン数</th>\n",
       "      <th>最も古いトレードラインの月齢</th>\n",
       "      <th>最近のクレジットの問い合わせ数</th>\n",
       "      <th>トレード(クレジット)ラインの数</th>\n",
       "      <th>債務対所得の割合</th>\n",
       "    </tr>\n",
       "  </thead>\n",
       "  <tbody>\n",
       "    <tr>\n",
       "      <th>5656</th>\n",
       "      <td>0</td>\n",
       "      <td>88900</td>\n",
       "      <td>48919.00</td>\n",
       "      <td>93371.00</td>\n",
       "      <td>DebtCon</td>\n",
       "      <td>Other</td>\n",
       "      <td>15.00</td>\n",
       "      <td>0.00</td>\n",
       "      <td>1.00</td>\n",
       "      <td>205.65</td>\n",
       "      <td>0.00</td>\n",
       "      <td>15.00</td>\n",
       "      <td>34.82</td>\n",
       "    </tr>\n",
       "    <tr>\n",
       "      <th>5657</th>\n",
       "      <td>0</td>\n",
       "      <td>88900</td>\n",
       "      <td>57264.00</td>\n",
       "      <td>90185.00</td>\n",
       "      <td>DebtCon</td>\n",
       "      <td>Other</td>\n",
       "      <td>16.00</td>\n",
       "      <td>0.00</td>\n",
       "      <td>0.00</td>\n",
       "      <td>221.81</td>\n",
       "      <td>0.00</td>\n",
       "      <td>16.00</td>\n",
       "      <td>36.11</td>\n",
       "    </tr>\n",
       "    <tr>\n",
       "      <th>5658</th>\n",
       "      <td>0</td>\n",
       "      <td>89000</td>\n",
       "      <td>54576.00</td>\n",
       "      <td>92937.00</td>\n",
       "      <td>DebtCon</td>\n",
       "      <td>Other</td>\n",
       "      <td>16.00</td>\n",
       "      <td>0.00</td>\n",
       "      <td>0.00</td>\n",
       "      <td>208.69</td>\n",
       "      <td>0.00</td>\n",
       "      <td>15.00</td>\n",
       "      <td>35.86</td>\n",
       "    </tr>\n",
       "    <tr>\n",
       "      <th>5659</th>\n",
       "      <td>0</td>\n",
       "      <td>89200</td>\n",
       "      <td>54045.00</td>\n",
       "      <td>92924.00</td>\n",
       "      <td>DebtCon</td>\n",
       "      <td>Other</td>\n",
       "      <td>15.00</td>\n",
       "      <td>0.00</td>\n",
       "      <td>0.00</td>\n",
       "      <td>212.28</td>\n",
       "      <td>0.00</td>\n",
       "      <td>15.00</td>\n",
       "      <td>35.56</td>\n",
       "    </tr>\n",
       "    <tr>\n",
       "      <th>5660</th>\n",
       "      <td>0</td>\n",
       "      <td>89900</td>\n",
       "      <td>48811.00</td>\n",
       "      <td>88934.00</td>\n",
       "      <td>DebtCon</td>\n",
       "      <td>Other</td>\n",
       "      <td>15.00</td>\n",
       "      <td>0.00</td>\n",
       "      <td>0.00</td>\n",
       "      <td>219.60</td>\n",
       "      <td>0.00</td>\n",
       "      <td>16.00</td>\n",
       "      <td>34.57</td>\n",
       "    </tr>\n",
       "  </tbody>\n",
       "</table>\n",
       "</div>"
      ],
      "text/plain": [
       "      不履行フラグ  融資依頼金額   未払担保金額   現在資産価値     債務理由     職種  勤務年数  信用調査会社問い合わせ数  \\\n",
       "5656       0   88900 48919.00 93371.00  DebtCon  Other 15.00          0.00   \n",
       "5657       0   88900 57264.00 90185.00  DebtCon  Other 16.00          0.00   \n",
       "5658       0   89000 54576.00 92937.00  DebtCon  Other 16.00          0.00   \n",
       "5659       0   89200 54045.00 92924.00  DebtCon  Other 15.00          0.00   \n",
       "5660       0   89900 48811.00 88934.00  DebtCon  Other 15.00          0.00   \n",
       "\n",
       "      延滞トレードライン数  最も古いトレードラインの月齢  最近のクレジットの問い合わせ数  トレード(クレジット)ラインの数  債務対所得の割合  \n",
       "5656        1.00          205.65             0.00             15.00     34.82  \n",
       "5657        0.00          221.81             0.00             16.00     36.11  \n",
       "5658        0.00          208.69             0.00             15.00     35.86  \n",
       "5659        0.00          212.28             0.00             15.00     35.56  \n",
       "5660        0.00          219.60             0.00             16.00     34.57  "
      ]
     },
     "execution_count": 39,
     "metadata": {},
     "output_type": "execute_result"
    }
   ],
   "source": [
    "train_dataset.to_pandas_dataframe().tail()"
   ]
  },
  {
   "cell_type": "code",
   "execution_count": 40,
   "metadata": {},
   "outputs": [
    {
     "data": {
      "text/html": [
       "<div>\n",
       "<style scoped>\n",
       "    .dataframe tbody tr th:only-of-type {\n",
       "        vertical-align: middle;\n",
       "    }\n",
       "\n",
       "    .dataframe tbody tr th {\n",
       "        vertical-align: top;\n",
       "    }\n",
       "\n",
       "    .dataframe thead th {\n",
       "        text-align: right;\n",
       "    }\n",
       "</style>\n",
       "<table border=\"1\" class=\"dataframe\">\n",
       "  <thead>\n",
       "    <tr style=\"text-align: right;\">\n",
       "      <th></th>\n",
       "      <th>不履行フラグ</th>\n",
       "      <th>融資依頼金額</th>\n",
       "      <th>未払担保金額</th>\n",
       "      <th>現在資産価値</th>\n",
       "      <th>勤務年数</th>\n",
       "      <th>信用調査会社問い合わせ数</th>\n",
       "      <th>延滞トレードライン数</th>\n",
       "      <th>最も古いトレードラインの月齢</th>\n",
       "      <th>最近のクレジットの問い合わせ数</th>\n",
       "      <th>トレード(クレジット)ラインの数</th>\n",
       "      <th>債務対所得の割合</th>\n",
       "    </tr>\n",
       "  </thead>\n",
       "  <tbody>\n",
       "    <tr>\n",
       "      <th>count</th>\n",
       "      <td>5661.00</td>\n",
       "      <td>5661.00</td>\n",
       "      <td>5153.00</td>\n",
       "      <td>5558.00</td>\n",
       "      <td>5175.00</td>\n",
       "      <td>4986.00</td>\n",
       "      <td>5113.00</td>\n",
       "      <td>5365.00</td>\n",
       "      <td>5180.00</td>\n",
       "      <td>5448.00</td>\n",
       "      <td>4450.00</td>\n",
       "    </tr>\n",
       "    <tr>\n",
       "      <th>mean</th>\n",
       "      <td>0.20</td>\n",
       "      <td>18623.12</td>\n",
       "      <td>73806.08</td>\n",
       "      <td>101810.50</td>\n",
       "      <td>8.93</td>\n",
       "      <td>0.25</td>\n",
       "      <td>0.45</td>\n",
       "      <td>179.75</td>\n",
       "      <td>1.19</td>\n",
       "      <td>21.26</td>\n",
       "      <td>33.76</td>\n",
       "    </tr>\n",
       "    <tr>\n",
       "      <th>std</th>\n",
       "      <td>0.40</td>\n",
       "      <td>11198.94</td>\n",
       "      <td>44328.98</td>\n",
       "      <td>57551.42</td>\n",
       "      <td>7.58</td>\n",
       "      <td>0.85</td>\n",
       "      <td>1.13</td>\n",
       "      <td>85.51</td>\n",
       "      <td>1.72</td>\n",
       "      <td>10.10</td>\n",
       "      <td>8.67</td>\n",
       "    </tr>\n",
       "    <tr>\n",
       "      <th>min</th>\n",
       "      <td>0.00</td>\n",
       "      <td>1100.00</td>\n",
       "      <td>2063.00</td>\n",
       "      <td>8000.00</td>\n",
       "      <td>0.00</td>\n",
       "      <td>0.00</td>\n",
       "      <td>0.00</td>\n",
       "      <td>0.00</td>\n",
       "      <td>0.00</td>\n",
       "      <td>0.00</td>\n",
       "      <td>0.52</td>\n",
       "    </tr>\n",
       "    <tr>\n",
       "      <th>25%</th>\n",
       "      <td>0.00</td>\n",
       "      <td>11100.00</td>\n",
       "      <td>46423.00</td>\n",
       "      <td>66000.00</td>\n",
       "      <td>3.00</td>\n",
       "      <td>0.00</td>\n",
       "      <td>0.00</td>\n",
       "      <td>115.19</td>\n",
       "      <td>0.00</td>\n",
       "      <td>14.00</td>\n",
       "      <td>29.12</td>\n",
       "    </tr>\n",
       "    <tr>\n",
       "      <th>50%</th>\n",
       "      <td>0.00</td>\n",
       "      <td>16400.00</td>\n",
       "      <td>65077.00</td>\n",
       "      <td>89208.00</td>\n",
       "      <td>7.00</td>\n",
       "      <td>0.00</td>\n",
       "      <td>0.00</td>\n",
       "      <td>173.32</td>\n",
       "      <td>1.00</td>\n",
       "      <td>20.00</td>\n",
       "      <td>34.77</td>\n",
       "    </tr>\n",
       "    <tr>\n",
       "      <th>75%</th>\n",
       "      <td>0.00</td>\n",
       "      <td>23300.00</td>\n",
       "      <td>91731.00</td>\n",
       "      <td>119961.50</td>\n",
       "      <td>13.00</td>\n",
       "      <td>0.00</td>\n",
       "      <td>0.00</td>\n",
       "      <td>231.73</td>\n",
       "      <td>2.00</td>\n",
       "      <td>26.00</td>\n",
       "      <td>38.97</td>\n",
       "    </tr>\n",
       "    <tr>\n",
       "      <th>max</th>\n",
       "      <td>1.00</td>\n",
       "      <td>89900.00</td>\n",
       "      <td>399550.00</td>\n",
       "      <td>855909.00</td>\n",
       "      <td>41.00</td>\n",
       "      <td>10.00</td>\n",
       "      <td>15.00</td>\n",
       "      <td>1168.23</td>\n",
       "      <td>17.00</td>\n",
       "      <td>71.00</td>\n",
       "      <td>203.31</td>\n",
       "    </tr>\n",
       "  </tbody>\n",
       "</table>\n",
       "</div>"
      ],
      "text/plain": [
       "       不履行フラグ   融資依頼金額    未払担保金額    現在資産価値    勤務年数  信用調査会社問い合わせ数  延滞トレードライン数  \\\n",
       "count 5661.00  5661.00   5153.00   5558.00 5175.00       4986.00     5113.00   \n",
       "mean     0.20 18623.12  73806.08 101810.50    8.93          0.25        0.45   \n",
       "std      0.40 11198.94  44328.98  57551.42    7.58          0.85        1.13   \n",
       "min      0.00  1100.00   2063.00   8000.00    0.00          0.00        0.00   \n",
       "25%      0.00 11100.00  46423.00  66000.00    3.00          0.00        0.00   \n",
       "50%      0.00 16400.00  65077.00  89208.00    7.00          0.00        0.00   \n",
       "75%      0.00 23300.00  91731.00 119961.50   13.00          0.00        0.00   \n",
       "max      1.00 89900.00 399550.00 855909.00   41.00         10.00       15.00   \n",
       "\n",
       "       最も古いトレードラインの月齢  最近のクレジットの問い合わせ数  トレード(クレジット)ラインの数  債務対所得の割合  \n",
       "count         5365.00          5180.00           5448.00   4450.00  \n",
       "mean           179.75             1.19             21.26     33.76  \n",
       "std             85.51             1.72             10.10      8.67  \n",
       "min              0.00             0.00              0.00      0.52  \n",
       "25%            115.19             0.00             14.00     29.12  \n",
       "50%            173.32             1.00             20.00     34.77  \n",
       "75%            231.73             2.00             26.00     38.97  \n",
       "max           1168.23            17.00             71.00    203.31  "
      ]
     },
     "execution_count": 40,
     "metadata": {},
     "output_type": "execute_result"
    }
   ],
   "source": [
    "train_dataset.to_pandas_dataframe().describe()"
   ]
  },
  {
   "cell_type": "markdown",
   "metadata": {},
   "source": [
    "### Dataset として登録\n",
    "Azure Machine Learning の データセット管理機能 Dataset に登録します。"
   ]
  },
  {
   "cell_type": "code",
   "execution_count": 41,
   "metadata": {},
   "outputs": [],
   "source": [
    "train_dataset = train_dataset.register(workspace, name = 'hmeq-train', description = 'hmeq train data in bootcamp', create_new_version=True)\n",
    "test_dataset = test_dataset.register(workspace, name = 'hmeq-test', description = 'hmeq test data in bootcamp', create_new_version=True)"
   ]
  },
  {
   "cell_type": "markdown",
   "metadata": {},
   "source": [
    "### 計算環境 (Machine Learning Compute) の設定"
   ]
  },
  {
   "cell_type": "markdown",
   "metadata": {},
   "source": [
    "Azure Machine Learning は高速にモデル学習を高速に回す計算環境 Machine Learning Compute が利用できます。"
   ]
  },
  {
   "cell_type": "code",
   "execution_count": 42,
   "metadata": {},
   "outputs": [],
   "source": [
    "# 予め Azure ML studio にて cpucluster という名称の Machine Learning Compute を 作成しておく\n",
    "from azureml.core.compute import ComputeTarget\n",
    "compute_target = ComputeTarget(workspace, \"cpucluster\")"
   ]
  },
  {
   "cell_type": "markdown",
   "metadata": {},
   "source": [
    "## 2. 自動機械学習 Automated Machine Learning\n",
    "自動機械学習の事前設定を行います。[AutoMLConfig](https://docs.microsoft.com/ja-JP/python/api/azureml-train-automl-client/azureml.train.automl.automlconfig.automlconfig?view=azure-ml-py) を用いて定義します。"
   ]
  },
  {
   "cell_type": "code",
   "execution_count": 43,
   "metadata": {},
   "outputs": [],
   "source": [
    "automl_settings = {\n",
    "    \"iteration_timeout_minutes\": 5, # 各試行の最大実験時間\n",
    "    \"iterations\": 10,  # 試行する機械学習パイプラインの数\n",
    "    #\"max_concurrent_iterations\": 4,\n",
    "    \"max_cores_per_iteration\": -1,\n",
    "    \"n_cross_validations\": 3,\n",
    "    \"primary_metric\": 'accuracy', # 精度指標\n",
    "    \"preprocess\": True,\n",
    "    \"enable_voting_ensemble\": False,\n",
    "    \"enable_stack_ensemble\": False\n",
    "}\n",
    "\n",
    "automl_config = AutoMLConfig(task = 'classification',\n",
    "                             training_data = train_dataset,\n",
    "                             label_column_name = label,                             \n",
    "                             #compute_target=compute_target,\n",
    "                             model_explainability = True,\n",
    "                             **automl_settings\n",
    "                            )"
   ]
  },
  {
   "cell_type": "markdown",
   "metadata": {},
   "source": [
    "### 実行と結果確認"
   ]
  },
  {
   "cell_type": "markdown",
   "metadata": {},
   "source": [
    "※ Machine Learning Compute を利用する場合、一番最初の実行は Docker Image を作成するため、20 〜 30分ほど時間がかかります。Dokcer Image を Build している様子は統合開発画面 Azure Machine Learning studio から確認できます。"
   ]
  },
  {
   "cell_type": "code",
   "execution_count": 44,
   "metadata": {},
   "outputs": [
    {
     "name": "stdout",
     "output_type": "stream",
     "text": [
      "Running on local machine\n",
      "Parent Run ID: AutoML_bbacf504-e49c-47d3-9966-bad7f24318b2\n",
      "\n",
      "Current status: DatasetFeaturization. Beginning to featurize the dataset.\n",
      "Current status: DatasetEvaluation. Gathering dataset statistics.\n",
      "Current status: FeaturesGeneration. Generating features for the dataset.\n",
      "Current status: DatasetFeaturizationCompleted. Completed featurizing the dataset.\n",
      "Current status: DatasetCrossValidationSplit. Generating individually featurized CV splits.\n",
      "\n",
      "****************************************************************************************************\n",
      "DATA GUARDRAILS SUMMARY:\n",
      "For more details, use API: run.get_guardrails()\n",
      "\n",
      "TYPE:         Class balancing detection\n",
      "STATUS:       PASSED\n",
      "DESCRIPTION:  Classes are balanced in the training data.\n",
      "\n",
      "TYPE:         Missing values imputation\n",
      "STATUS:       FIXED\n",
      "DESCRIPTION:  The training data had the following missing values which were resolved.\n",
      "\n",
      "Please review your data source for data quality issues and possibly filter out the rows with these missing values.\n",
      "\n",
      "If the missing values are expected, you can either accept the above imputation, or implement your own custom imputation that may be more appropriate based on the data type and business process.\n",
      "\n",
      "\n",
      "TYPE:         High cardinality feature detection\n",
      "STATUS:       PASSED\n",
      "DESCRIPTION:  Your inputs were analyzed, and no high cardinality features were detected.\n",
      "\n",
      "****************************************************************************************************\n",
      "Current status: ModelSelection. Beginning model selection.\n",
      "\n",
      "****************************************************************************************************\n",
      "ITERATION: The iteration being evaluated.\n",
      "PIPELINE: A summary description of the pipeline being evaluated.\n",
      "DURATION: Time taken for the current iteration.\n",
      "METRIC: The result of computing score on the fitted pipeline.\n",
      "BEST: The best observed score thus far.\n",
      "****************************************************************************************************\n",
      "\n",
      " ITERATION   PIPELINE                                       DURATION      METRIC      BEST\n",
      "         0   MaxAbsScaler SGD                               0:00:17       0.8827    0.8827\n",
      "         1   MaxAbsScaler SGD                               0:00:16       0.8585    0.8827\n",
      "         2   MaxAbsScaler ExtremeRandomTrees                0:00:16       0.8431    0.8827\n",
      "         3   MaxAbsScaler SGD                               0:00:17       0.8811    0.8827\n",
      "         4   MaxAbsScaler RandomForest                      0:00:17       0.8491    0.8827\n",
      "         5   MaxAbsScaler SGD                               0:00:15       0.8617    0.8827\n",
      "         6   MaxAbsScaler RandomForest                      0:00:17       0.8345    0.8827\n",
      "         7   StandardScalerWrapper RandomForest             0:00:17       0.8203    0.8827\n",
      "         8   MaxAbsScaler RandomForest                      0:00:17       0.8313    0.8827\n",
      "         9   MaxAbsScaler ExtremeRandomTrees                0:00:16       0.8004    0.8827\n",
      "****************************************************************************************************\n",
      "Current status: BestRunExplainModel. Best run model explanations started\n",
      "Current status: ModelExplainationDataSetSetup. Model explanations data setup completed\n",
      "Current status: EngineeredFeatureExplanations. Computation of engineered features started\n",
      "Current status: EngineeredFeatureExplanations. Computation of engineered features completed\n",
      "Current status: BestRunExplainModel. Best run model explanations completed\n",
      "****************************************************************************************************\n"
     ]
    }
   ],
   "source": [
    "remote_run = experiment.submit(automl_config, show_output = True)"
   ]
  },
  {
   "cell_type": "code",
   "execution_count": 45,
   "metadata": {},
   "outputs": [
    {
     "data": {
      "application/vnd.jupyter.widget-view+json": {
       "model_id": "cb98c8189c1f4de6b56cb84048290aea",
       "version_major": 2,
       "version_minor": 0
      },
      "text/plain": [
       "_AutoMLWidget(widget_settings={'childWidgetDisplay': 'popup', 'send_telemetry': False, 'log_level': 'NOTSET', …"
      ]
     },
     "metadata": {},
     "output_type": "display_data"
    },
    {
     "data": {
      "application/aml.mini.widget.v1": "{\"status\": \"Completed\", \"workbench_run_details_uri\": \"https://ml.azure.com/experiments/automl-classification-hmeq-dev/runs/AutoML_bbacf504-e49c-47d3-9966-bad7f24318b2?wsid=/subscriptions/9c0f91b8-eb2f-484c-979c-15848c098a6b/resourcegroups/iothack/workspaces/azureml-iot\", \"run_id\": \"AutoML_bbacf504-e49c-47d3-9966-bad7f24318b2\", \"run_properties\": {\"run_id\": \"AutoML_bbacf504-e49c-47d3-9966-bad7f24318b2\", \"created_utc\": \"2020-01-17T16:07:12.164166Z\", \"properties\": {\"num_iterations\": \"10\", \"training_type\": \"TrainFull\", \"acquisition_function\": \"EI\", \"primary_metric\": \"accuracy\", \"train_split\": \"0\", \"MaxTimeSeconds\": \"300\", \"acquisition_parameter\": \"0\", \"num_cross_validation\": \"3\", \"target\": \"local\", \"RawAMLSettingsString\": \"{'name': 'automl-classification-hmeq-dev', 'path': '.', 'subscription_id': '9c0f91b8-eb2f-484c-979c-15848c098a6b', 'resource_group': 'iothack', 'workspace_name': 'azureml-iot', 'region': 'southeastasia', 'compute_target': 'local', 'spark_service': None, 'azure_service': None, 'iterations': 10, 'primary_metric': 'accuracy', 'task_type': 'classification', 'data_script': None, 'validation_size': 0.0, 'n_cross_validations': 3, 'y_min': None, 'y_max': None, 'num_classes': 2, 'featurization': 'auto', 'preprocess': True, 'lag_length': 0, 'is_timeseries': False, 'max_cores_per_iteration': -1, 'max_concurrent_iterations': 1, 'iteration_timeout_minutes': 5, 'mem_in_mb': None, 'enforce_time_on_windows': False, 'experiment_timeout_minutes': None, 'experiment_exit_score': None, 'whitelist_models': None, 'blacklist_algos': ['XGBoostClassifier', 'Prophet', 'KNN', 'SVM'], 'supported_models': ['BernoulliNaiveBayes', 'RandomForest', 'LinearSVMClassifier', 'GradientBoosting', 'LightGBM', 'TensorFlowDNN', 'MultinomialNaiveBayes', 'ExtremeRandomTrees', 'SGD', 'TensorFlowLinearClassifier', 'AveragedPerceptronClassifier', 'KNN', 'DecisionTree', 'SVM', 'LogisticRegression', 'XGBoostClassifier', 'LinearSVM'], 'auto_blacklist': True, 'blacklist_samples_reached': True, 'exclude_nan_labels': True, 'verbosity': 20, 'debug_log': 'automl.log', 'show_warnings': False, 'model_explainability': True, 'service_url': None, 'sdk_url': None, 'sdk_packages': None, 'enable_onnx_compatible_models': False, 'enable_split_onnx_featurizer_estimator_models': False, 'vm_type': None, 'telemetry_verbosity': 'NOTSET', 'send_telemetry': False, 'enable_dnn': False, 'enable_feature_sweeping': True, 'enable_early_stopping': False, 'early_stopping_n_iters': 10, 'metrics': None, 'enable_ensembling': False, 'enable_stack_ensembling': False, 'ensemble_iterations': 10, 'enable_tf': False, 'enable_cache': True, 'enable_subsampling': False, 'subsample_seed': None, 'enable_nimbusml': False, 'enable_streaming': False, 'label_column_name': '\\u4e0d\\u5c65\\u884c\\u30d5\\u30e9\\u30b0', 'weight_column_name': None, 'cost_mode': 0, 'metric_operation': 'maximize'}\", \"AMLSettingsJsonString\": \"{\\\"name\\\": \\\"automl-classification-hmeq-dev\\\", \\\"path\\\": \\\".\\\", \\\"subscription_id\\\": \\\"9c0f91b8-eb2f-484c-979c-15848c098a6b\\\", \\\"resource_group\\\": \\\"iothack\\\", \\\"workspace_name\\\": \\\"azureml-iot\\\", \\\"region\\\": \\\"southeastasia\\\", \\\"compute_target\\\": \\\"local\\\", \\\"spark_service\\\": null, \\\"azure_service\\\": null, \\\"iterations\\\": 10, \\\"primary_metric\\\": \\\"accuracy\\\", \\\"task_type\\\": \\\"classification\\\", \\\"data_script\\\": null, \\\"validation_size\\\": 0.0, \\\"n_cross_validations\\\": 3, \\\"y_min\\\": null, \\\"y_max\\\": null, \\\"num_classes\\\": 2, \\\"featurization\\\": \\\"auto\\\", \\\"preprocess\\\": true, \\\"lag_length\\\": 0, \\\"is_timeseries\\\": false, \\\"max_cores_per_iteration\\\": -1, \\\"max_concurrent_iterations\\\": 1, \\\"iteration_timeout_minutes\\\": 5, \\\"mem_in_mb\\\": null, \\\"enforce_time_on_windows\\\": false, \\\"experiment_timeout_minutes\\\": null, \\\"experiment_exit_score\\\": null, \\\"whitelist_models\\\": null, \\\"blacklist_algos\\\": [\\\"XGBoostClassifier\\\", \\\"Prophet\\\", \\\"KNN\\\", \\\"SVM\\\"], \\\"supported_models\\\": [\\\"BernoulliNaiveBayes\\\", \\\"RandomForest\\\", \\\"LinearSVMClassifier\\\", \\\"GradientBoosting\\\", \\\"LightGBM\\\", \\\"TensorFlowDNN\\\", \\\"MultinomialNaiveBayes\\\", \\\"ExtremeRandomTrees\\\", \\\"SGD\\\", \\\"TensorFlowLinearClassifier\\\", \\\"AveragedPerceptronClassifier\\\", \\\"KNN\\\", \\\"DecisionTree\\\", \\\"SVM\\\", \\\"LogisticRegression\\\", \\\"XGBoostClassifier\\\", \\\"LinearSVM\\\"], \\\"auto_blacklist\\\": true, \\\"blacklist_samples_reached\\\": true, \\\"exclude_nan_labels\\\": true, \\\"verbosity\\\": 20, \\\"debug_log\\\": \\\"automl.log\\\", \\\"show_warnings\\\": false, \\\"model_explainability\\\": true, \\\"service_url\\\": null, \\\"sdk_url\\\": null, \\\"sdk_packages\\\": null, \\\"enable_onnx_compatible_models\\\": false, \\\"enable_split_onnx_featurizer_estimator_models\\\": false, \\\"vm_type\\\": null, \\\"telemetry_verbosity\\\": \\\"NOTSET\\\", \\\"send_telemetry\\\": false, \\\"enable_dnn\\\": false, \\\"enable_feature_sweeping\\\": true, \\\"enable_early_stopping\\\": false, \\\"early_stopping_n_iters\\\": 10, \\\"metrics\\\": null, \\\"enable_ensembling\\\": false, \\\"enable_stack_ensembling\\\": false, \\\"ensemble_iterations\\\": 10, \\\"enable_tf\\\": false, \\\"enable_cache\\\": true, \\\"enable_subsampling\\\": false, \\\"subsample_seed\\\": null, \\\"enable_nimbusml\\\": false, \\\"enable_streaming\\\": false, \\\"label_column_name\\\": \\\"\\\\u4e0d\\\\u5c65\\\\u884c\\\\u30d5\\\\u30e9\\\\u30b0\\\", \\\"weight_column_name\\\": null, \\\"cost_mode\\\": 0, \\\"metric_operation\\\": \\\"maximize\\\"}\", \"DataPrepJsonString\": null, \"EnableSubsampling\": \"False\", \"Properties\": \"\", \"runTemplate\": \"AutoML\", \"azureml.runsource\": \"automl\", \"display_task_type\": \"classification\", \"dependencies_versions\": \"{\\\"azureml-widgets\\\": \\\"1.0.76\\\", \\\"azureml-train\\\": \\\"1.0.76\\\", \\\"azureml-train-restclients-hyperdrive\\\": \\\"1.0.76\\\", \\\"azureml-train-core\\\": \\\"1.0.76\\\", \\\"azureml-train-automl\\\": \\\"1.0.76\\\", \\\"azureml-train-automl-runtime\\\": \\\"1.0.76.1\\\", \\\"azureml-train-automl-client\\\": \\\"1.0.76\\\", \\\"azureml-telemetry\\\": \\\"1.0.76\\\", \\\"azureml-sdk\\\": \\\"1.0.76\\\", \\\"azureml-pipeline\\\": \\\"1.0.76\\\", \\\"azureml-pipeline-steps\\\": \\\"1.0.76\\\", \\\"azureml-pipeline-core\\\": \\\"1.0.76\\\", \\\"azureml-model-management-sdk\\\": \\\"1.0.1b6.post1\\\", \\\"azureml-interpret\\\": \\\"1.0.76\\\", \\\"azureml-explain-model\\\": \\\"1.0.76\\\", \\\"azureml-defaults\\\": \\\"1.0.76\\\", \\\"azureml-dataprep\\\": \\\"1.1.38\\\", \\\"azureml-dataprep-native\\\": \\\"13.2.0\\\", \\\"azureml-core\\\": \\\"1.0.76\\\", \\\"azureml-contrib-services\\\": \\\"1.0.76\\\", \\\"azureml-contrib-server\\\": \\\"1.0.76\\\", \\\"azureml-contrib-pipeline-steps\\\": \\\"1.0.76\\\", \\\"azureml-contrib-notebook\\\": \\\"1.0.76\\\", \\\"azureml-automl-runtime\\\": \\\"1.0.76.1\\\", \\\"azureml-automl-core\\\": \\\"1.0.76\\\"}\", \"ProblemInfoJsonString\": \"{\\\"dataset_num_categorical\\\": 0, \\\"is_sparse\\\": true, \\\"subsampling\\\": false, \\\"dataset_classes\\\": 2, \\\"dataset_features\\\": 29, \\\"dataset_samples\\\": 5661, \\\"single_frequency_class_detected\\\": false}\", \"azureml.git.repository_uri\": \"https://github.com/konabuta/AzureML-Bootcamp\", \"mlflow.source.git.repoURL\": \"https://github.com/konabuta/AzureML-Bootcamp\", \"azureml.git.branch\": \"dev\", \"mlflow.source.git.branch\": \"dev\", \"azureml.git.commit\": \"848b8729d8b7fdaaed4a45f1f5c786ae9313bf0d\", \"mlflow.source.git.commit\": \"848b8729d8b7fdaaed4a45f1f5c786ae9313bf0d\", \"azureml.git.dirty\": \"True\"}, \"tags\": {\"model_explain_run\": \"best_run\", \"experiment_status\": \"BestRunExplainModel\", \"experiment_status_descr\": \"Best run model explanations completed\", \"model_explain_best_run_child_id\": \"AutoML_bbacf504-e49c-47d3-9966-bad7f24318b2_0\"}, \"end_time_utc\": \"2020-01-17T16:10:44.793032Z\", \"status\": \"Completed\", \"log_files\": {}, \"log_groups\": [], \"run_duration\": \"0:03:32\"}, \"child_runs\": [{\"run_id\": \"AutoML_bbacf504-e49c-47d3-9966-bad7f24318b2_0\", \"run_number\": 13, \"metric\": null, \"status\": \"Completed\", \"run_type\": null, \"training_percent\": \"100\", \"start_time\": \"2020-01-17T16:07:57.325517Z\", \"end_time\": \"2020-01-17T16:08:10.048638Z\", \"created_time\": \"2020-01-17T16:07:56.355977Z\", \"created_time_dt\": \"2020-01-17T16:07:56.355977Z\", \"duration\": \"0:00:13\", \"iteration\": \"0\", \"goal\": \"accuracy_max\", \"run_name\": \"MaxAbsScaler, SGD\", \"run_properties\": \"copy=True\", \"primary_metric\": 0.88270624, \"best_metric\": 0.88270624}, {\"run_id\": \"AutoML_bbacf504-e49c-47d3-9966-bad7f24318b2_1\", \"run_number\": 14, \"metric\": null, \"status\": \"Completed\", \"run_type\": null, \"training_percent\": \"100\", \"start_time\": \"2020-01-17T16:08:14.366134Z\", \"end_time\": \"2020-01-17T16:08:26.267243Z\", \"created_time\": \"2020-01-17T16:08:13.700883Z\", \"created_time_dt\": \"2020-01-17T16:08:13.700883Z\", \"duration\": \"0:00:12\", \"iteration\": \"1\", \"goal\": \"accuracy_max\", \"run_name\": \"MaxAbsScaler, SGD\", \"run_properties\": \"copy=True\", \"primary_metric\": 0.85850556, \"best_metric\": 0.88270624}, {\"run_id\": \"AutoML_bbacf504-e49c-47d3-9966-bad7f24318b2_2\", \"run_number\": 15, \"metric\": null, \"status\": \"Completed\", \"run_type\": null, \"training_percent\": \"100\", \"start_time\": \"2020-01-17T16:08:30.433374Z\", \"end_time\": \"2020-01-17T16:08:42.754777Z\", \"created_time\": \"2020-01-17T16:08:29.84477Z\", \"created_time_dt\": \"2020-01-17T16:08:29.84477Z\", \"duration\": \"0:00:12\", \"iteration\": \"2\", \"goal\": \"accuracy_max\", \"run_name\": \"MaxAbsScaler, ExtremeRandomTrees\", \"run_properties\": \"copy=True\", \"primary_metric\": 0.84313725, \"best_metric\": 0.88270624}, {\"run_id\": \"AutoML_bbacf504-e49c-47d3-9966-bad7f24318b2_3\", \"run_number\": 16, \"metric\": null, \"status\": \"Completed\", \"run_type\": null, \"training_percent\": \"100\", \"start_time\": \"2020-01-17T16:08:47.165783Z\", \"end_time\": \"2020-01-17T16:09:00.088398Z\", \"created_time\": \"2020-01-17T16:08:46.542091Z\", \"created_time_dt\": \"2020-01-17T16:08:46.542091Z\", \"duration\": \"0:00:13\", \"iteration\": \"3\", \"goal\": \"accuracy_max\", \"run_name\": \"MaxAbsScaler, SGD\", \"run_properties\": \"copy=True\", \"primary_metric\": 0.88111641, \"best_metric\": 0.88270624}, {\"run_id\": \"AutoML_bbacf504-e49c-47d3-9966-bad7f24318b2_4\", \"run_number\": 17, \"metric\": null, \"status\": \"Completed\", \"run_type\": null, \"training_percent\": \"100\", \"start_time\": \"2020-01-17T16:09:04.370486Z\", \"end_time\": \"2020-01-17T16:09:17.218652Z\", \"created_time\": \"2020-01-17T16:09:03.783333Z\", \"created_time_dt\": \"2020-01-17T16:09:03.783333Z\", \"duration\": \"0:00:13\", \"iteration\": \"4\", \"goal\": \"accuracy_max\", \"run_name\": \"MaxAbsScaler, RandomForest\", \"run_properties\": \"copy=True\", \"primary_metric\": 0.84914326, \"best_metric\": 0.88270624}, {\"run_id\": \"AutoML_bbacf504-e49c-47d3-9966-bad7f24318b2_5\", \"run_number\": 18, \"metric\": null, \"status\": \"Completed\", \"run_type\": null, \"training_percent\": \"100\", \"start_time\": \"2020-01-17T16:09:21.512254Z\", \"end_time\": \"2020-01-17T16:09:32.666113Z\", \"created_time\": \"2020-01-17T16:09:20.892192Z\", \"created_time_dt\": \"2020-01-17T16:09:20.892192Z\", \"duration\": \"0:00:11\", \"iteration\": \"5\", \"goal\": \"accuracy_max\", \"run_name\": \"MaxAbsScaler, SGD\", \"run_properties\": \"copy=True\", \"primary_metric\": 0.86168521, \"best_metric\": 0.88270624}, {\"run_id\": \"AutoML_bbacf504-e49c-47d3-9966-bad7f24318b2_6\", \"run_number\": 19, \"metric\": null, \"status\": \"Completed\", \"run_type\": null, \"training_percent\": \"100\", \"start_time\": \"2020-01-17T16:09:36.886786Z\", \"end_time\": \"2020-01-17T16:09:49.646413Z\", \"created_time\": \"2020-01-17T16:09:36.283013Z\", \"created_time_dt\": \"2020-01-17T16:09:36.283013Z\", \"duration\": \"0:00:13\", \"iteration\": \"6\", \"goal\": \"accuracy_max\", \"run_name\": \"MaxAbsScaler, RandomForest\", \"run_properties\": \"copy=True\", \"primary_metric\": 0.83448154, \"best_metric\": 0.88270624}, {\"run_id\": \"AutoML_bbacf504-e49c-47d3-9966-bad7f24318b2_7\", \"run_number\": 20, \"metric\": null, \"status\": \"Completed\", \"run_type\": null, \"training_percent\": \"100\", \"start_time\": \"2020-01-17T16:09:54.170852Z\", \"end_time\": \"2020-01-17T16:10:07.432752Z\", \"created_time\": \"2020-01-17T16:09:53.506395Z\", \"created_time_dt\": \"2020-01-17T16:09:53.506395Z\", \"duration\": \"0:00:13\", \"iteration\": \"7\", \"goal\": \"accuracy_max\", \"run_name\": \"StandardScalerWrapper, RandomForest\", \"run_properties\": \"<automl.client.core.runtime.model_wrappers.StandardScalerWrapper object at 0x12ad98c88\", \"primary_metric\": 0.82034976, \"best_metric\": 0.88270624}, {\"run_id\": \"AutoML_bbacf504-e49c-47d3-9966-bad7f24318b2_8\", \"run_number\": 21, \"metric\": null, \"status\": \"Completed\", \"run_type\": null, \"training_percent\": \"100\", \"start_time\": \"2020-01-17T16:10:11.877411Z\", \"end_time\": \"2020-01-17T16:10:24.782758Z\", \"created_time\": \"2020-01-17T16:10:11.290476Z\", \"created_time_dt\": \"2020-01-17T16:10:11.290476Z\", \"duration\": \"0:00:13\", \"iteration\": \"8\", \"goal\": \"accuracy_max\", \"run_name\": \"MaxAbsScaler, RandomForest\", \"run_properties\": \"copy=True\", \"primary_metric\": 0.83130189, \"best_metric\": 0.88270624}, {\"run_id\": \"AutoML_bbacf504-e49c-47d3-9966-bad7f24318b2_9\", \"run_number\": 22, \"metric\": null, \"status\": \"Completed\", \"run_type\": null, \"training_percent\": \"100\", \"start_time\": \"2020-01-17T16:10:29.138082Z\", \"end_time\": \"2020-01-17T16:10:41.101209Z\", \"created_time\": \"2020-01-17T16:10:28.570881Z\", \"created_time_dt\": \"2020-01-17T16:10:28.570881Z\", \"duration\": \"0:00:12\", \"iteration\": \"9\", \"goal\": \"accuracy_max\", \"run_name\": \"MaxAbsScaler, ExtremeRandomTrees\", \"run_properties\": \"copy=True\", \"primary_metric\": 0.80038862, \"best_metric\": 0.88270624}], \"children_metrics\": {\"categories\": [0], \"series\": {\"AUC_weighted\": [{\"categories\": [\"0\", \"1\", \"2\", \"3\", \"4\", \"5\", \"6\", \"7\", \"8\", \"9\"], \"mode\": \"markers\", \"name\": \"AUC_weighted\", \"stepped\": false, \"type\": \"scatter\", \"data\": [0.8924052335739353, 0.8849277341469443, 0.8289870864931563, 0.8877917574263537, 0.9050207374817151, 0.8961539367145641, 0.8845513341138354, 0.8729580167979445, 0.8786239316600924, 0.8735680283591843]}, {\"categories\": [\"0\", \"1\", \"2\", \"3\", \"4\", \"5\", \"6\", \"7\", \"8\", \"9\"], \"mode\": \"lines\", \"name\": \"AUC_weighted_max\", \"stepped\": true, \"type\": \"scatter\", \"data\": [0.8924052335739353, 0.8924052335739353, 0.8924052335739353, 0.8924052335739353, 0.9050207374817151, 0.9050207374817151, 0.9050207374817151, 0.9050207374817151, 0.9050207374817151, 0.9050207374817151]}], \"precision_score_micro\": [{\"categories\": [\"0\", \"1\", \"2\", \"3\", \"4\", \"5\", \"6\", \"7\", \"8\", \"9\"], \"mode\": \"markers\", \"name\": \"precision_score_micro\", \"stepped\": false, \"type\": \"scatter\", \"data\": [0.8827062356474121, 0.8585055643879174, 0.8431372549019608, 0.8811164105281751, 0.8491432609079667, 0.861685214626391, 0.8344815403638933, 0.8203497615262322, 0.8313018901254196, 0.8003886239180357]}, {\"categories\": [\"0\", \"1\", \"2\", \"3\", \"4\", \"5\", \"6\", \"7\", \"8\", \"9\"], \"mode\": \"lines\", \"name\": \"precision_score_micro_max\", \"stepped\": true, \"type\": \"scatter\", \"data\": [0.8827062356474121, 0.8827062356474121, 0.8827062356474121, 0.8827062356474121, 0.8827062356474121, 0.8827062356474121, 0.8827062356474121, 0.8827062356474121, 0.8827062356474121, 0.8827062356474121]}], \"norm_macro_recall\": [{\"categories\": [\"0\", \"1\", \"2\", \"3\", \"4\", \"5\", \"6\", \"7\", \"8\", \"9\"], \"mode\": \"markers\", \"name\": \"norm_macro_recall\", \"stepped\": false, \"type\": \"scatter\", \"data\": [0.5318705374941245, 0.618618099820266, 0.5615356893708793, 0.5614636211782053, 0.6346756780743187, 0.5858238736709388, 0.6071114138960613, 0.5839389336238588, 0.5951872215568547, 0.0]}, {\"categories\": [\"0\", \"1\", \"2\", \"3\", \"4\", \"5\", \"6\", \"7\", \"8\", \"9\"], \"mode\": \"lines\", \"name\": \"norm_macro_recall_max\", \"stepped\": true, \"type\": \"scatter\", \"data\": [0.5318705374941245, 0.618618099820266, 0.618618099820266, 0.618618099820266, 0.6346756780743187, 0.6346756780743187, 0.6346756780743187, 0.6346756780743187, 0.6346756780743187, 0.6346756780743187]}], \"average_precision_score_weighted\": [{\"categories\": [\"0\", \"1\", \"2\", \"3\", \"4\", \"5\", \"6\", \"7\", \"8\", \"9\"], \"mode\": \"markers\", \"name\": \"average_precision_score_weighted\", \"stepped\": false, \"type\": \"scatter\", \"data\": [0.9208057470456135, 0.9179574815015181, 0.8734077520458322, 0.9197615733656757, 0.9240504620517879, 0.9244231044025623, 0.9109631955607536, 0.9068495872320739, 0.9086258534194297, 0.9082107734561221]}, {\"categories\": [\"0\", \"1\", \"2\", \"3\", \"4\", \"5\", \"6\", \"7\", \"8\", \"9\"], \"mode\": \"lines\", \"name\": \"average_precision_score_weighted_max\", \"stepped\": true, \"type\": \"scatter\", \"data\": [0.9208057470456135, 0.9208057470456135, 0.9208057470456135, 0.9208057470456135, 0.9240504620517879, 0.9244231044025623, 0.9244231044025623, 0.9244231044025623, 0.9244231044025623, 0.9244231044025623]}], \"precision_score_weighted\": [{\"categories\": [\"0\", \"1\", \"2\", \"3\", \"4\", \"5\", \"6\", \"7\", \"8\", \"9\"], \"mode\": \"markers\", \"name\": \"precision_score_weighted\", \"stepped\": false, \"type\": \"scatter\", \"data\": [0.8785860077509718, 0.8685126964911118, 0.8530117963039201, 0.8755178687170372, 0.8684545528812436, 0.8643994156932253, 0.8587586861051201, 0.8506971519818395, 0.8553197718060132, 0.6406925957098967]}, {\"categories\": [\"0\", \"1\", \"2\", \"3\", \"4\", \"5\", \"6\", \"7\", \"8\", \"9\"], \"mode\": \"lines\", \"name\": \"precision_score_weighted_max\", \"stepped\": true, \"type\": \"scatter\", \"data\": [0.8785860077509718, 0.8785860077509718, 0.8785860077509718, 0.8785860077509718, 0.8785860077509718, 0.8785860077509718, 0.8785860077509718, 0.8785860077509718, 0.8785860077509718, 0.8785860077509718]}], \"f1_score_micro\": [{\"categories\": [\"0\", \"1\", \"2\", \"3\", \"4\", \"5\", \"6\", \"7\", \"8\", \"9\"], \"mode\": \"markers\", \"name\": \"f1_score_micro\", \"stepped\": false, \"type\": \"scatter\", \"data\": [0.8827062356474121, 0.8585055643879174, 0.8431372549019608, 0.8811164105281751, 0.8491432609079667, 0.861685214626391, 0.8344815403638933, 0.8203497615262322, 0.8313018901254196, 0.8003886239180357]}, {\"categories\": [\"0\", \"1\", \"2\", \"3\", \"4\", \"5\", \"6\", \"7\", \"8\", \"9\"], \"mode\": \"lines\", \"name\": \"f1_score_micro_max\", \"stepped\": true, \"type\": \"scatter\", \"data\": [0.8827062356474121, 0.8827062356474121, 0.8827062356474121, 0.8827062356474121, 0.8827062356474121, 0.8827062356474121, 0.8827062356474121, 0.8827062356474121, 0.8827062356474121, 0.8827062356474121]}], \"recall_score_micro\": [{\"categories\": [\"0\", \"1\", \"2\", \"3\", \"4\", \"5\", \"6\", \"7\", \"8\", \"9\"], \"mode\": \"markers\", \"name\": \"recall_score_micro\", \"stepped\": false, \"type\": \"scatter\", \"data\": [0.8827062356474121, 0.8585055643879174, 0.8431372549019608, 0.8811164105281751, 0.8491432609079667, 0.861685214626391, 0.8344815403638933, 0.8203497615262322, 0.8313018901254196, 0.8003886239180357]}, {\"categories\": [\"0\", \"1\", \"2\", \"3\", \"4\", \"5\", \"6\", \"7\", \"8\", \"9\"], \"mode\": \"lines\", \"name\": \"recall_score_micro_max\", \"stepped\": true, \"type\": \"scatter\", \"data\": [0.8827062356474121, 0.8827062356474121, 0.8827062356474121, 0.8827062356474121, 0.8827062356474121, 0.8827062356474121, 0.8827062356474121, 0.8827062356474121, 0.8827062356474121, 0.8827062356474121]}], \"average_precision_score_macro\": [{\"categories\": [\"0\", \"1\", \"2\", \"3\", \"4\", \"5\", \"6\", \"7\", \"8\", \"9\"], \"mode\": \"markers\", \"name\": \"average_precision_score_macro\", \"stepped\": false, \"type\": \"scatter\", \"data\": [0.8629958831994412, 0.8527731446519237, 0.7784897727178127, 0.8553198780858876, 0.854446825774, 0.8618335819256729, 0.8347533513942557, 0.8299575373143894, 0.8321364462404043, 0.8353397920606942]}, {\"categories\": [\"0\", \"1\", \"2\", \"3\", \"4\", \"5\", \"6\", \"7\", \"8\", \"9\"], \"mode\": \"lines\", \"name\": \"average_precision_score_macro_max\", \"stepped\": true, \"type\": \"scatter\", \"data\": [0.8629958831994412, 0.8629958831994412, 0.8629958831994412, 0.8629958831994412, 0.8629958831994412, 0.8629958831994412, 0.8629958831994412, 0.8629958831994412, 0.8629958831994412, 0.8629958831994412]}], \"accuracy\": [{\"categories\": [\"0\", \"1\", \"2\", \"3\", \"4\", \"5\", \"6\", \"7\", \"8\", \"9\"], \"mode\": \"markers\", \"name\": \"accuracy\", \"stepped\": false, \"type\": \"scatter\", \"data\": [0.8827062356474121, 0.8585055643879174, 0.8431372549019608, 0.8811164105281751, 0.8491432609079667, 0.861685214626391, 0.8344815403638933, 0.8203497615262322, 0.8313018901254196, 0.8003886239180357]}, {\"categories\": [\"0\", \"1\", \"2\", \"3\", \"4\", \"5\", \"6\", \"7\", \"8\", \"9\"], \"mode\": \"lines\", \"name\": \"accuracy_max\", \"stepped\": true, \"type\": \"scatter\", \"data\": [0.8827062356474121, 0.8827062356474121, 0.8827062356474121, 0.8827062356474121, 0.8827062356474121, 0.8827062356474121, 0.8827062356474121, 0.8827062356474121, 0.8827062356474121, 0.8827062356474121]}], \"f1_score_weighted\": [{\"categories\": [\"0\", \"1\", \"2\", \"3\", \"4\", \"5\", \"6\", \"7\", \"8\", \"9\"], \"mode\": \"markers\", \"name\": \"f1_score_weighted\", \"stepped\": false, \"type\": \"scatter\", \"data\": [0.8751241850226377, 0.8623970060955055, 0.8469459763932466, 0.8765075006793159, 0.8557307046302208, 0.8629220447131768, 0.8426383421373101, 0.8303241239978508, 0.8394195632251568, 0.7116727787023157]}, {\"categories\": [\"0\", \"1\", \"2\", \"3\", \"4\", \"5\", \"6\", \"7\", \"8\", \"9\"], \"mode\": \"lines\", \"name\": \"f1_score_weighted_max\", \"stepped\": true, \"type\": \"scatter\", \"data\": [0.8751241850226377, 0.8751241850226377, 0.8751241850226377, 0.8765075006793159, 0.8765075006793159, 0.8765075006793159, 0.8765075006793159, 0.8765075006793159, 0.8765075006793159, 0.8765075006793159]}], \"precision_score_macro\": [{\"categories\": [\"0\", \"1\", \"2\", \"3\", \"4\", \"5\", \"6\", \"7\", \"8\", \"9\"], \"mode\": \"markers\", \"name\": \"precision_score_macro\", \"stepped\": false, \"type\": \"scatter\", \"data\": [0.8457188401646522, 0.7775558768196517, 0.7577064322705324, 0.8271838550104809, 0.7664515682661103, 0.7828633514247839, 0.7490779708496159, 0.7326098513135353, 0.7439838819055459, 0.40019431195901783]}, {\"categories\": [\"0\", \"1\", \"2\", \"3\", \"4\", \"5\", \"6\", \"7\", \"8\", \"9\"], \"mode\": \"lines\", \"name\": \"precision_score_macro_max\", \"stepped\": true, \"type\": \"scatter\", \"data\": [0.8457188401646522, 0.8457188401646522, 0.8457188401646522, 0.8457188401646522, 0.8457188401646522, 0.8457188401646522, 0.8457188401646522, 0.8457188401646522, 0.8457188401646522, 0.8457188401646522]}], \"AUC_micro\": [{\"categories\": [\"0\", \"1\", \"2\", \"3\", \"4\", \"5\", \"6\", \"7\", \"8\", \"9\"], \"mode\": \"markers\", \"name\": \"AUC_micro\", \"stepped\": false, \"type\": \"scatter\", \"data\": [0.9447370310551831, 0.8825121764427853, 0.8449905062642368, 0.9409405664899912, 0.9130970491673756, 0.9416467809809248, 0.8860888383005655, 0.8827252390331041, 0.8862691364327949, 0.9195979857160067]}, {\"categories\": [\"0\", \"1\", \"2\", \"3\", \"4\", \"5\", \"6\", \"7\", \"8\", \"9\"], \"mode\": \"lines\", \"name\": \"AUC_micro_max\", \"stepped\": true, \"type\": \"scatter\", \"data\": [0.9447370310551831, 0.9447370310551831, 0.9447370310551831, 0.9447370310551831, 0.9447370310551831, 0.9447370310551831, 0.9447370310551831, 0.9447370310551831, 0.9447370310551831, 0.9447370310551831]}], \"AUC_macro\": [{\"categories\": [\"0\", \"1\", \"2\", \"3\", \"4\", \"5\", \"6\", \"7\", \"8\", \"9\"], \"mode\": \"markers\", \"name\": \"AUC_macro\", \"stepped\": false, \"type\": \"scatter\", \"data\": [0.8924052335739351, 0.8849277341469443, 0.8289870864931563, 0.8877917574263536, 0.9050207374817149, 0.896153936714564, 0.8845513341138354, 0.8729580167979445, 0.8786239316600924, 0.8735680283591845]}, {\"categories\": [\"0\", \"1\", \"2\", \"3\", \"4\", \"5\", \"6\", \"7\", \"8\", \"9\"], \"mode\": \"lines\", \"name\": \"AUC_macro_max\", \"stepped\": true, \"type\": \"scatter\", \"data\": [0.8924052335739351, 0.8924052335739351, 0.8924052335739351, 0.8924052335739351, 0.9050207374817149, 0.9050207374817149, 0.9050207374817149, 0.9050207374817149, 0.9050207374817149, 0.9050207374817149]}], \"recall_score_weighted\": [{\"categories\": [\"0\", \"1\", \"2\", \"3\", \"4\", \"5\", \"6\", \"7\", \"8\", \"9\"], \"mode\": \"markers\", \"name\": \"recall_score_weighted\", \"stepped\": false, \"type\": \"scatter\", \"data\": [0.8827062356474121, 0.8585055643879174, 0.8431372549019608, 0.8811164105281751, 0.8491432609079667, 0.861685214626391, 0.8344815403638933, 0.8203497615262322, 0.8313018901254196, 0.8003886239180357]}, {\"categories\": [\"0\", \"1\", \"2\", \"3\", \"4\", \"5\", \"6\", \"7\", \"8\", \"9\"], \"mode\": \"lines\", \"name\": \"recall_score_weighted_max\", \"stepped\": true, \"type\": \"scatter\", \"data\": [0.8827062356474121, 0.8827062356474121, 0.8827062356474121, 0.8827062356474121, 0.8827062356474121, 0.8827062356474121, 0.8827062356474121, 0.8827062356474121, 0.8827062356474121, 0.8827062356474121]}], \"balanced_accuracy\": [{\"categories\": [\"0\", \"1\", \"2\", \"3\", \"4\", \"5\", \"6\", \"7\", \"8\", \"9\"], \"mode\": \"markers\", \"name\": \"balanced_accuracy\", \"stepped\": false, \"type\": \"scatter\", \"data\": [0.7659352687470622, 0.8093090499101331, 0.7807678446854397, 0.7807318105891027, 0.8173378390371594, 0.7929119368354695, 0.8035557069480307, 0.7919694668119295, 0.7975936107784274, 0.5]}, {\"categories\": [\"0\", \"1\", \"2\", \"3\", \"4\", \"5\", \"6\", \"7\", \"8\", \"9\"], \"mode\": \"lines\", \"name\": \"balanced_accuracy_max\", \"stepped\": true, \"type\": \"scatter\", \"data\": [0.7659352687470622, 0.8093090499101331, 0.8093090499101331, 0.8093090499101331, 0.8173378390371594, 0.8173378390371594, 0.8173378390371594, 0.8173378390371594, 0.8173378390371594, 0.8173378390371594]}], \"f1_score_macro\": [{\"categories\": [\"0\", \"1\", \"2\", \"3\", \"4\", \"5\", \"6\", \"7\", \"8\", \"9\"], \"mode\": \"markers\", \"name\": \"f1_score_macro\", \"stepped\": false, \"type\": \"scatter\", \"data\": [0.7939202676336867, 0.7912765349593256, 0.7670942820577354, 0.8001876707192825, 0.7860770427240187, 0.7876462796684033, 0.7688783600908525, 0.7526324193323912, 0.7633960529106822, 0.4445522345668778]}, {\"categories\": [\"0\", \"1\", \"2\", \"3\", \"4\", \"5\", \"6\", \"7\", \"8\", \"9\"], \"mode\": \"lines\", \"name\": \"f1_score_macro_max\", \"stepped\": true, \"type\": \"scatter\", \"data\": [0.7939202676336867, 0.7939202676336867, 0.7939202676336867, 0.8001876707192825, 0.8001876707192825, 0.8001876707192825, 0.8001876707192825, 0.8001876707192825, 0.8001876707192825, 0.8001876707192825]}], \"log_loss\": [{\"categories\": [\"0\", \"1\", \"2\", \"3\", \"4\", \"5\", \"6\", \"7\", \"8\", \"9\"], \"mode\": \"markers\", \"name\": \"log_loss\", \"stepped\": false, \"type\": \"scatter\", \"data\": [0.6573175625269293, 0.422870986292095, 0.6071752319128257, 0.31009375708566117, 0.4123791097268301, 0.3199844905991868, 0.5071768448146754, 0.5452605318448375, 0.5130559000461438, 0.45612807744755113]}, {\"categories\": [\"0\", \"1\", \"2\", \"3\", \"4\", \"5\", \"6\", \"7\", \"8\", \"9\"], \"mode\": \"lines\", \"name\": \"log_loss_min\", \"stepped\": true, \"type\": \"scatter\", \"data\": [0.6573175625269293, 0.422870986292095, 0.422870986292095, 0.31009375708566117, 0.31009375708566117, 0.31009375708566117, 0.31009375708566117, 0.31009375708566117, 0.31009375708566117, 0.31009375708566117]}], \"recall_score_macro\": [{\"categories\": [\"0\", \"1\", \"2\", \"3\", \"4\", \"5\", \"6\", \"7\", \"8\", \"9\"], \"mode\": \"markers\", \"name\": \"recall_score_macro\", \"stepped\": false, \"type\": \"scatter\", \"data\": [0.7659352687470622, 0.8093090499101331, 0.7807678446854397, 0.7807318105891027, 0.8173378390371594, 0.7929119368354695, 0.8035557069480307, 0.7919694668119295, 0.7975936107784274, 0.5]}, {\"categories\": [\"0\", \"1\", \"2\", \"3\", \"4\", \"5\", \"6\", \"7\", \"8\", \"9\"], \"mode\": \"lines\", \"name\": \"recall_score_macro_max\", \"stepped\": true, \"type\": \"scatter\", \"data\": [0.7659352687470622, 0.8093090499101331, 0.8093090499101331, 0.8093090499101331, 0.8173378390371594, 0.8173378390371594, 0.8173378390371594, 0.8173378390371594, 0.8173378390371594, 0.8173378390371594]}], \"average_precision_score_micro\": [{\"categories\": [\"0\", \"1\", \"2\", \"3\", \"4\", \"5\", \"6\", \"7\", \"8\", \"9\"], \"mode\": \"markers\", \"name\": \"average_precision_score_micro\", \"stepped\": false, \"type\": \"scatter\", \"data\": [0.9379238324449207, 0.8695411474756524, 0.8053586126531953, 0.9383511703161599, 0.9098836886544982, 0.9400476052455241, 0.8789166079568876, 0.876836738699358, 0.8788863638336655, 0.917675714558781]}, {\"categories\": [\"0\", \"1\", \"2\", \"3\", \"4\", \"5\", \"6\", \"7\", \"8\", \"9\"], \"mode\": \"lines\", \"name\": \"average_precision_score_micro_max\", \"stepped\": true, \"type\": \"scatter\", \"data\": [0.9379238324449207, 0.9379238324449207, 0.9379238324449207, 0.9383511703161599, 0.9383511703161599, 0.9400476052455241, 0.9400476052455241, 0.9400476052455241, 0.9400476052455241, 0.9400476052455241]}], \"weighted_accuracy\": [{\"categories\": [\"0\", \"1\", \"2\", \"3\", \"4\", \"5\", \"6\", \"7\", \"8\", \"9\"], \"mode\": \"markers\", \"name\": \"weighted_accuracy\", \"stepped\": false, \"type\": \"scatter\", \"data\": [0.9375684843252925, 0.8815284089759071, 0.8724666096252925, 0.9283389583806915, 0.8640612258604451, 0.8939728361220606, 0.8490734372250719, 0.8337869155222158, 0.8473873618240372, 0.9412667145034961]}, {\"categories\": [\"0\", \"1\", \"2\", \"3\", \"4\", \"5\", \"6\", \"7\", \"8\", \"9\"], \"mode\": \"lines\", \"name\": \"weighted_accuracy_max\", \"stepped\": true, \"type\": \"scatter\", \"data\": [0.9375684843252925, 0.9375684843252925, 0.9375684843252925, 0.9375684843252925, 0.9375684843252925, 0.9375684843252925, 0.9375684843252925, 0.9375684843252925, 0.9375684843252925, 0.9412667145034961]}]}, \"metricName\": null, \"primaryMetricName\": \"accuracy\", \"showLegend\": false}, \"run_metrics\": [], \"run_logs\": \"\\nRun is completed.\", \"graph\": {}, \"widget_settings\": {\"childWidgetDisplay\": \"popup\", \"send_telemetry\": false, \"log_level\": \"NOTSET\", \"sdk_version\": \"1.0.76\"}, \"loading\": false}"
     },
     "metadata": {},
     "output_type": "display_data"
    }
   ],
   "source": [
    "# Widget で結果確認\n",
    "from azureml.widgets import RunDetails\n",
    "RunDetails(remote_run).show()"
   ]
  },
  {
   "cell_type": "code",
   "execution_count": 46,
   "metadata": {},
   "outputs": [],
   "source": [
    "# 詳細ログの出力\n",
    "#remote_run.get_details()"
   ]
  },
  {
   "cell_type": "code",
   "execution_count": 47,
   "metadata": {},
   "outputs": [],
   "source": [
    "#remote_run.get_guardrails()"
   ]
  },
  {
   "cell_type": "code",
   "execution_count": 48,
   "metadata": {},
   "outputs": [
    {
     "data": {
      "text/html": [
       "<table style=\"width:100%\"><tr><th>Experiment</th><th>Id</th><th>Type</th><th>Status</th><th>Details Page</th><th>Docs Page</th></tr><tr><td>automl-classification-hmeq-dev</td><td>AutoML_bbacf504-e49c-47d3-9966-bad7f24318b2_0</td><td></td><td>Completed</td><td><a href=\"https://ml.azure.com/experiments/automl-classification-hmeq-dev/runs/AutoML_bbacf504-e49c-47d3-9966-bad7f24318b2_0?wsid=/subscriptions/9c0f91b8-eb2f-484c-979c-15848c098a6b/resourcegroups/iothack/workspaces/azureml-iot\" target=\"_blank\" rel=\"noopener\">Link to Azure Machine Learning studio</a></td><td><a href=\"https://docs.microsoft.com/en-us/python/api/azureml-core/azureml.core.run.Run?view=azure-ml-py\" target=\"_blank\" rel=\"noopener\">Link to Documentation</a></td></tr></table>"
      ],
      "text/plain": [
       "Run(Experiment: automl-classification-hmeq-dev,\n",
       "Id: AutoML_bbacf504-e49c-47d3-9966-bad7f24318b2_0,\n",
       "Type: None,\n",
       "Status: Completed)"
      ]
     },
     "execution_count": 48,
     "metadata": {},
     "output_type": "execute_result"
    }
   ],
   "source": [
    "best_run, fitted_model = remote_run.get_output()\n",
    "best_run"
   ]
  },
  {
   "cell_type": "markdown",
   "metadata": {},
   "source": [
    "### 機械学習モデルの理解"
   ]
  },
  {
   "cell_type": "code",
   "execution_count": 49,
   "metadata": {},
   "outputs": [
    {
     "data": {
      "text/html": [
       "<div>\n",
       "<style scoped>\n",
       "    .dataframe tbody tr th:only-of-type {\n",
       "        vertical-align: middle;\n",
       "    }\n",
       "\n",
       "    .dataframe tbody tr th {\n",
       "        vertical-align: top;\n",
       "    }\n",
       "\n",
       "    .dataframe thead th {\n",
       "        text-align: right;\n",
       "    }\n",
       "</style>\n",
       "<table border=\"1\" class=\"dataframe\">\n",
       "  <thead>\n",
       "    <tr style=\"text-align: right;\">\n",
       "      <th></th>\n",
       "      <th>0</th>\n",
       "    </tr>\n",
       "  </thead>\n",
       "  <tbody>\n",
       "    <tr>\n",
       "      <th>0</th>\n",
       "      <td>融資依頼金額_MeanImputer</td>\n",
       "    </tr>\n",
       "    <tr>\n",
       "      <th>1</th>\n",
       "      <td>未払担保金額_MeanImputer</td>\n",
       "    </tr>\n",
       "    <tr>\n",
       "      <th>2</th>\n",
       "      <td>未払担保金額_ImputationMarker</td>\n",
       "    </tr>\n",
       "    <tr>\n",
       "      <th>3</th>\n",
       "      <td>現在資産価値_MeanImputer</td>\n",
       "    </tr>\n",
       "    <tr>\n",
       "      <th>4</th>\n",
       "      <td>現在資産価値_ImputationMarker</td>\n",
       "    </tr>\n",
       "    <tr>\n",
       "      <th>5</th>\n",
       "      <td>勤務年数_MeanImputer</td>\n",
       "    </tr>\n",
       "    <tr>\n",
       "      <th>6</th>\n",
       "      <td>勤務年数_ImputationMarker</td>\n",
       "    </tr>\n",
       "    <tr>\n",
       "      <th>7</th>\n",
       "      <td>信用調査会社問い合わせ数_MeanImputer</td>\n",
       "    </tr>\n",
       "    <tr>\n",
       "      <th>8</th>\n",
       "      <td>信用調査会社問い合わせ数_ImputationMarker</td>\n",
       "    </tr>\n",
       "    <tr>\n",
       "      <th>9</th>\n",
       "      <td>延滞トレードライン数_MeanImputer</td>\n",
       "    </tr>\n",
       "    <tr>\n",
       "      <th>10</th>\n",
       "      <td>延滞トレードライン数_ImputationMarker</td>\n",
       "    </tr>\n",
       "    <tr>\n",
       "      <th>11</th>\n",
       "      <td>最も古いトレードラインの月齢_MeanImputer</td>\n",
       "    </tr>\n",
       "    <tr>\n",
       "      <th>12</th>\n",
       "      <td>最も古いトレードラインの月齢_ImputationMarker</td>\n",
       "    </tr>\n",
       "    <tr>\n",
       "      <th>13</th>\n",
       "      <td>最近のクレジットの問い合わせ数_MeanImputer</td>\n",
       "    </tr>\n",
       "    <tr>\n",
       "      <th>14</th>\n",
       "      <td>最近のクレジットの問い合わせ数_ImputationMarker</td>\n",
       "    </tr>\n",
       "    <tr>\n",
       "      <th>15</th>\n",
       "      <td>トレード(クレジット)ラインの数_MeanImputer</td>\n",
       "    </tr>\n",
       "    <tr>\n",
       "      <th>16</th>\n",
       "      <td>トレード(クレジット)ラインの数_ImputationMarker</td>\n",
       "    </tr>\n",
       "    <tr>\n",
       "      <th>17</th>\n",
       "      <td>債務対所得の割合_MeanImputer</td>\n",
       "    </tr>\n",
       "    <tr>\n",
       "      <th>18</th>\n",
       "      <td>債務対所得の割合_ImputationMarker</td>\n",
       "    </tr>\n",
       "    <tr>\n",
       "      <th>19</th>\n",
       "      <td>債務理由_CharGramCountVectorizer</td>\n",
       "    </tr>\n",
       "    <tr>\n",
       "      <th>20</th>\n",
       "      <td>債務理由_CharGramCountVectorizer_debtcon</td>\n",
       "    </tr>\n",
       "    <tr>\n",
       "      <th>21</th>\n",
       "      <td>債務理由_CharGramCountVectorizer_homeimp</td>\n",
       "    </tr>\n",
       "    <tr>\n",
       "      <th>22</th>\n",
       "      <td>職種_CharGramCountVectorizer</td>\n",
       "    </tr>\n",
       "    <tr>\n",
       "      <th>23</th>\n",
       "      <td>職種_CharGramCountVectorizer_mgr</td>\n",
       "    </tr>\n",
       "    <tr>\n",
       "      <th>24</th>\n",
       "      <td>職種_CharGramCountVectorizer_office</td>\n",
       "    </tr>\n",
       "    <tr>\n",
       "      <th>25</th>\n",
       "      <td>職種_CharGramCountVectorizer_other</td>\n",
       "    </tr>\n",
       "    <tr>\n",
       "      <th>26</th>\n",
       "      <td>職種_CharGramCountVectorizer_profexe</td>\n",
       "    </tr>\n",
       "    <tr>\n",
       "      <th>27</th>\n",
       "      <td>職種_CharGramCountVectorizer_sales</td>\n",
       "    </tr>\n",
       "    <tr>\n",
       "      <th>28</th>\n",
       "      <td>職種_CharGramCountVectorizer_self</td>\n",
       "    </tr>\n",
       "  </tbody>\n",
       "</table>\n",
       "</div>"
      ],
      "text/plain": [
       "                                       0\n",
       "0                     融資依頼金額_MeanImputer\n",
       "1                     未払担保金額_MeanImputer\n",
       "2                未払担保金額_ImputationMarker\n",
       "3                     現在資産価値_MeanImputer\n",
       "4                現在資産価値_ImputationMarker\n",
       "5                       勤務年数_MeanImputer\n",
       "6                  勤務年数_ImputationMarker\n",
       "7               信用調査会社問い合わせ数_MeanImputer\n",
       "8          信用調査会社問い合わせ数_ImputationMarker\n",
       "9                 延滞トレードライン数_MeanImputer\n",
       "10           延滞トレードライン数_ImputationMarker\n",
       "11            最も古いトレードラインの月齢_MeanImputer\n",
       "12       最も古いトレードラインの月齢_ImputationMarker\n",
       "13           最近のクレジットの問い合わせ数_MeanImputer\n",
       "14      最近のクレジットの問い合わせ数_ImputationMarker\n",
       "15          トレード(クレジット)ラインの数_MeanImputer\n",
       "16     トレード(クレジット)ラインの数_ImputationMarker\n",
       "17                  債務対所得の割合_MeanImputer\n",
       "18             債務対所得の割合_ImputationMarker\n",
       "19          債務理由_CharGramCountVectorizer\n",
       "20  債務理由_CharGramCountVectorizer_debtcon\n",
       "21  債務理由_CharGramCountVectorizer_homeimp\n",
       "22            職種_CharGramCountVectorizer\n",
       "23        職種_CharGramCountVectorizer_mgr\n",
       "24     職種_CharGramCountVectorizer_office\n",
       "25      職種_CharGramCountVectorizer_other\n",
       "26    職種_CharGramCountVectorizer_profexe\n",
       "27      職種_CharGramCountVectorizer_sales\n",
       "28       職種_CharGramCountVectorizer_self"
      ]
     },
     "execution_count": 49,
     "metadata": {},
     "output_type": "execute_result"
    }
   ],
   "source": [
    "pd.DataFrame(fitted_model.named_steps['datatransformer'].get_engineered_feature_names())"
   ]
  },
  {
   "cell_type": "code",
   "execution_count": 50,
   "metadata": {},
   "outputs": [
    {
     "data": {
      "text/html": [
       "<div>\n",
       "<style scoped>\n",
       "    .dataframe tbody tr th:only-of-type {\n",
       "        vertical-align: middle;\n",
       "    }\n",
       "\n",
       "    .dataframe tbody tr th {\n",
       "        vertical-align: top;\n",
       "    }\n",
       "\n",
       "    .dataframe thead th {\n",
       "        text-align: right;\n",
       "    }\n",
       "</style>\n",
       "<table border=\"1\" class=\"dataframe\">\n",
       "  <thead>\n",
       "    <tr style=\"text-align: right;\">\n",
       "      <th></th>\n",
       "      <th>Dropped</th>\n",
       "      <th>EngineeredFeatureCount</th>\n",
       "      <th>RawFeatureName</th>\n",
       "      <th>Transformations</th>\n",
       "      <th>TypeDetected</th>\n",
       "    </tr>\n",
       "  </thead>\n",
       "  <tbody>\n",
       "    <tr>\n",
       "      <th>0</th>\n",
       "      <td>No</td>\n",
       "      <td>1</td>\n",
       "      <td>融資依頼金額</td>\n",
       "      <td>[MeanImputer]</td>\n",
       "      <td>Numeric</td>\n",
       "    </tr>\n",
       "    <tr>\n",
       "      <th>1</th>\n",
       "      <td>No</td>\n",
       "      <td>2</td>\n",
       "      <td>未払担保金額</td>\n",
       "      <td>[MeanImputer, ImputationMarker]</td>\n",
       "      <td>Numeric</td>\n",
       "    </tr>\n",
       "    <tr>\n",
       "      <th>2</th>\n",
       "      <td>No</td>\n",
       "      <td>2</td>\n",
       "      <td>現在資産価値</td>\n",
       "      <td>[MeanImputer, ImputationMarker]</td>\n",
       "      <td>Numeric</td>\n",
       "    </tr>\n",
       "    <tr>\n",
       "      <th>3</th>\n",
       "      <td>No</td>\n",
       "      <td>2</td>\n",
       "      <td>勤務年数</td>\n",
       "      <td>[MeanImputer, ImputationMarker]</td>\n",
       "      <td>Numeric</td>\n",
       "    </tr>\n",
       "    <tr>\n",
       "      <th>4</th>\n",
       "      <td>No</td>\n",
       "      <td>2</td>\n",
       "      <td>信用調査会社問い合わせ数</td>\n",
       "      <td>[MeanImputer, ImputationMarker]</td>\n",
       "      <td>Numeric</td>\n",
       "    </tr>\n",
       "    <tr>\n",
       "      <th>5</th>\n",
       "      <td>No</td>\n",
       "      <td>2</td>\n",
       "      <td>延滞トレードライン数</td>\n",
       "      <td>[MeanImputer, ImputationMarker]</td>\n",
       "      <td>Numeric</td>\n",
       "    </tr>\n",
       "    <tr>\n",
       "      <th>6</th>\n",
       "      <td>No</td>\n",
       "      <td>2</td>\n",
       "      <td>最も古いトレードラインの月齢</td>\n",
       "      <td>[MeanImputer, ImputationMarker]</td>\n",
       "      <td>Numeric</td>\n",
       "    </tr>\n",
       "    <tr>\n",
       "      <th>7</th>\n",
       "      <td>No</td>\n",
       "      <td>2</td>\n",
       "      <td>最近のクレジットの問い合わせ数</td>\n",
       "      <td>[MeanImputer, ImputationMarker]</td>\n",
       "      <td>Numeric</td>\n",
       "    </tr>\n",
       "    <tr>\n",
       "      <th>8</th>\n",
       "      <td>No</td>\n",
       "      <td>2</td>\n",
       "      <td>トレード(クレジット)ラインの数</td>\n",
       "      <td>[MeanImputer, ImputationMarker]</td>\n",
       "      <td>Numeric</td>\n",
       "    </tr>\n",
       "    <tr>\n",
       "      <th>9</th>\n",
       "      <td>No</td>\n",
       "      <td>2</td>\n",
       "      <td>債務対所得の割合</td>\n",
       "      <td>[MeanImputer, ImputationMarker]</td>\n",
       "      <td>Numeric</td>\n",
       "    </tr>\n",
       "    <tr>\n",
       "      <th>10</th>\n",
       "      <td>No</td>\n",
       "      <td>3</td>\n",
       "      <td>債務理由</td>\n",
       "      <td>[StringCast-CharGramCountVectorizer]</td>\n",
       "      <td>Categorical</td>\n",
       "    </tr>\n",
       "    <tr>\n",
       "      <th>11</th>\n",
       "      <td>No</td>\n",
       "      <td>7</td>\n",
       "      <td>職種</td>\n",
       "      <td>[StringCast-CharGramCountVectorizer]</td>\n",
       "      <td>Categorical</td>\n",
       "    </tr>\n",
       "  </tbody>\n",
       "</table>\n",
       "</div>"
      ],
      "text/plain": [
       "   Dropped  EngineeredFeatureCount    RawFeatureName  \\\n",
       "0       No                       1            融資依頼金額   \n",
       "1       No                       2            未払担保金額   \n",
       "2       No                       2            現在資産価値   \n",
       "3       No                       2              勤務年数   \n",
       "4       No                       2      信用調査会社問い合わせ数   \n",
       "5       No                       2        延滞トレードライン数   \n",
       "6       No                       2    最も古いトレードラインの月齢   \n",
       "7       No                       2   最近のクレジットの問い合わせ数   \n",
       "8       No                       2  トレード(クレジット)ラインの数   \n",
       "9       No                       2          債務対所得の割合   \n",
       "10      No                       3              債務理由   \n",
       "11      No                       7                職種   \n",
       "\n",
       "                         Transformations TypeDetected  \n",
       "0                          [MeanImputer]      Numeric  \n",
       "1        [MeanImputer, ImputationMarker]      Numeric  \n",
       "2        [MeanImputer, ImputationMarker]      Numeric  \n",
       "3        [MeanImputer, ImputationMarker]      Numeric  \n",
       "4        [MeanImputer, ImputationMarker]      Numeric  \n",
       "5        [MeanImputer, ImputationMarker]      Numeric  \n",
       "6        [MeanImputer, ImputationMarker]      Numeric  \n",
       "7        [MeanImputer, ImputationMarker]      Numeric  \n",
       "8        [MeanImputer, ImputationMarker]      Numeric  \n",
       "9        [MeanImputer, ImputationMarker]      Numeric  \n",
       "10  [StringCast-CharGramCountVectorizer]  Categorical  \n",
       "11  [StringCast-CharGramCountVectorizer]  Categorical  "
      ]
     },
     "execution_count": 50,
     "metadata": {},
     "output_type": "execute_result"
    }
   ],
   "source": [
    "pd.DataFrame.from_records(fitted_model.named_steps['datatransformer'].get_featurization_summary())"
   ]
  },
  {
   "cell_type": "markdown",
   "metadata": {},
   "source": [
    "## 3. モデル解釈\n",
    "Azure Machine Learning には Automated ML のモデルを解釈する仕組みがあります。詳しくは [モデルを解釈する方法](https://docs.microsoft.com/ja-jp/azure/machine-learning/service/how-to-machine-learning-interpretability#how-to-interpret-your-model)をご参照ください。"
   ]
  },
  {
   "cell_type": "code",
   "execution_count": 51,
   "metadata": {},
   "outputs": [],
   "source": [
    "# Pandas Dataframe に変換\n",
    "train_df = train_dataset.to_pandas_dataframe()\n",
    "test_df = test_dataset.to_pandas_dataframe()"
   ]
  },
  {
   "cell_type": "code",
   "execution_count": 52,
   "metadata": {},
   "outputs": [
    {
     "name": "stdout",
     "output_type": "stream",
     "text": [
      "Current status: Setting up data for AutoML explanations\n",
      "Current status: Setting up the AutoML featurizer\n",
      "Current status: Setting up the AutoML featurization for explanations\n",
      "Current status: Setting up the AutoML estimator\n",
      "Current status: Generating a feature map for raw feature importance\n",
      "Current status: Finding all classes from the dataset\n",
      "Current status: Data for AutoML explanations successfully setup\n"
     ]
    }
   ],
   "source": [
    "from azureml.train.automl.runtime.automl_explain_utilities import AutoMLExplainerSetupClass, automl_setup_model_explanations\n",
    "automl_explainer_setup_obj = automl_setup_model_explanations(fitted_model, \n",
    "                                                             X=train_df.drop([label], axis=1), \n",
    "                                                             X_test=test_df.drop([label], axis=1), \n",
    "                                                             y=train_df[label].values, \n",
    "                                                             task='classification')"
   ]
  },
  {
   "cell_type": "markdown",
   "metadata": {},
   "source": [
    "`MimicWrapper` は **Global Surrogate Model** によるグローバルなモデル解釈を実現します。ここでは LightGBM を用いています。"
   ]
  },
  {
   "cell_type": "code",
   "execution_count": 53,
   "metadata": {},
   "outputs": [],
   "source": [
    "from azureml.explain.model.mimic.models.lightgbm_model import LGBMExplainableModel\n",
    "from azureml.explain.model.mimic_wrapper import MimicWrapper\n",
    "explainer = MimicWrapper(workspace, automl_explainer_setup_obj.automl_estimator, LGBMExplainableModel, \n",
    "                         init_dataset=automl_explainer_setup_obj.X_transform, run=best_run,\n",
    "                         features=automl_explainer_setup_obj.engineered_feature_names, \n",
    "                         feature_maps=[automl_explainer_setup_obj.feature_map],\n",
    "                         classes=automl_explainer_setup_obj.classes)"
   ]
  },
  {
   "cell_type": "markdown",
   "metadata": {},
   "source": [
    "## Engineered Explanation\n",
    "特徴量エンジニアリングで生成された変数を用いたモデル解釈を行います。"
   ]
  },
  {
   "cell_type": "code",
   "execution_count": 54,
   "metadata": {},
   "outputs": [],
   "source": [
    "# Compute the engineered explanations\n",
    "engineered_explanations = explainer.explain(['local', 'global'],get_raw=False,\n",
    "                                            eval_dataset=automl_explainer_setup_obj.X_test_transform)"
   ]
  },
  {
   "cell_type": "code",
   "execution_count": 55,
   "metadata": {},
   "outputs": [
    {
     "data": {
      "application/vnd.jupyter.widget-view+json": {
       "model_id": "deafd7a3b1a141d7a34ceb4a1a0e4bae",
       "version_major": 2,
       "version_minor": 0
      },
      "text/plain": [
       "ExplanationWidget(value={'predictedY': [1, 0, 1, 1, 1, 0, 0, 0, 1, 1, 0, 0, 0, 1, 0, 0, 0, 0, 1, 0, 1, 1, 0, 0…"
      ]
     },
     "metadata": {},
     "output_type": "display_data"
    },
    {
     "data": {
      "text/plain": [
       "<interpret_community.widget.ExplanationDashboard.ExplanationDashboard at 0x12bb05400>"
      ]
     },
     "execution_count": 55,
     "metadata": {},
     "output_type": "execute_result"
    }
   ],
   "source": [
    "# ダッシュボードの表示\n",
    "from interpret_community.widget import ExplanationDashboard\n",
    "ExplanationDashboard(engineered_explanations, \n",
    "                     automl_explainer_setup_obj.automl_estimator, \n",
    "                     datasetX=automl_explainer_setup_obj.X_test_transform)"
   ]
  },
  {
   "cell_type": "markdown",
   "metadata": {},
   "source": [
    "## Raw Explanation\n",
    "特徴量エンジニアリング前の変数を用いたモデル解釈を行います。"
   ]
  },
  {
   "cell_type": "code",
   "execution_count": 56,
   "metadata": {},
   "outputs": [],
   "source": [
    "raw_explanations = explainer.explain(['local', 'global'], get_raw=True, \n",
    "                                     raw_feature_names=automl_explainer_setup_obj.raw_feature_names,\n",
    "                                     eval_dataset=automl_explainer_setup_obj.X_test_transform)"
   ]
  },
  {
   "cell_type": "code",
   "execution_count": 57,
   "metadata": {},
   "outputs": [
    {
     "data": {
      "application/vnd.jupyter.widget-view+json": {
       "model_id": "a922e26b7aff42338b44ebd20b54fefb",
       "version_major": 2,
       "version_minor": 0
      },
      "text/plain": [
       "ExplanationWidget(value={'predictedY': [1, 0, 1, 1, 1, 0, 0, 0, 1, 1, 0, 0, 0, 1, 0, 0, 0, 0, 1, 0, 1, 1, 0, 0…"
      ]
     },
     "metadata": {},
     "output_type": "display_data"
    },
    {
     "data": {
      "text/plain": [
       "<interpret_community.widget.ExplanationDashboard.ExplanationDashboard at 0x12adbaa58>"
      ]
     },
     "execution_count": 57,
     "metadata": {},
     "output_type": "execute_result"
    }
   ],
   "source": [
    "# ダッシュボードの表示\n",
    "from interpret_community.widget import ExplanationDashboard\n",
    "ExplanationDashboard(raw_explanations, \n",
    "                     automl_explainer_setup_obj.automl_pipeline, \n",
    "                     datasetX=automl_explainer_setup_obj.X_test_raw)"
   ]
  },
  {
   "cell_type": "code",
   "execution_count": null,
   "metadata": {},
   "outputs": [],
   "source": []
  },
  {
   "cell_type": "code",
   "execution_count": null,
   "metadata": {},
   "outputs": [],
   "source": []
  }
 ],
 "metadata": {
  "kernelspec": {
   "display_name": "Python (bootcamp)",
   "language": "python",
   "name": "azureml-bootcamp"
  },
  "language_info": {
   "codemirror_mode": {
    "name": "ipython",
    "version": 3
   },
   "file_extension": ".py",
   "mimetype": "text/x-python",
   "name": "python",
   "nbconvert_exporter": "python",
   "pygments_lexer": "ipython3",
   "version": "3.6.8"
  }
 },
 "nbformat": 4,
 "nbformat_minor": 4
}
