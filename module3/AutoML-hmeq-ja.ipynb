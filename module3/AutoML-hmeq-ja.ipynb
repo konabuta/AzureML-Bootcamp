{
 "cells": [
  {
   "cell_type": "markdown",
   "metadata": {},
   "source": [
    "# AutoML 与信リスクモデル & モデル解釈\n",
    "- Python SDK のインポート\n",
    "- Azure ML Workspace への接続\n",
    "- Experiment の作成\n",
    "- データの準備\n",
    "- 自動機械学習の事前設定\n",
    "- モデル学習と結果の確認\n",
    "- モデル解釈"
   ]
  },
  {
   "cell_type": "markdown",
   "metadata": {},
   "source": [
    "## Python SDK のインポート"
   ]
  },
  {
   "cell_type": "code",
   "execution_count": 1,
   "metadata": {},
   "outputs": [],
   "source": [
    "import azureml.core\n",
    "from azureml.core.experiment import Experiment\n",
    "from azureml.core.workspace import Workspace\n",
    "from azureml.core.dataset import Dataset\n",
    "from azureml.train.automl import AutoMLConfig"
   ]
  },
  {
   "cell_type": "code",
   "execution_count": 2,
   "metadata": {},
   "outputs": [
    {
     "name": "stdout",
     "output_type": "stream",
     "text": [
      "1.0.79\n"
     ]
    }
   ],
   "source": [
    "# Python SDK バージョン確認\n",
    "print(azureml.core.VERSION)"
   ]
  },
  {
   "cell_type": "markdown",
   "metadata": {},
   "source": [
    "## Azure Machine Learning への接続"
   ]
  },
  {
   "cell_type": "code",
   "execution_count": 3,
   "metadata": {},
   "outputs": [
    {
     "name": "stdout",
     "output_type": "stream",
     "text": [
      "azureml\tjapaneast\tAML-HOL\tjapaneast\n"
     ]
    }
   ],
   "source": [
    "subscription_id = '9c0f91b8-eb2f-484c-979c-15848c098a6b'\n",
    "resource_group = 'AML-HOL'\n",
    "workspace_name = 'azureml'\n",
    "\n",
    "ws = Workspace(subscription_id, resource_group, workspace_name)\n",
    "print(ws.name, ws.location, ws.resource_group, ws.location, sep = '\\t')"
   ]
  },
  {
   "cell_type": "markdown",
   "metadata": {},
   "source": [
    "## Experiment の作成"
   ]
  },
  {
   "cell_type": "code",
   "execution_count": 4,
   "metadata": {},
   "outputs": [],
   "source": [
    "# choose a name for experiment\n",
    "experiment_name = 'automl-hmeq-ja'\n",
    "experiment=Experiment(ws, experiment_name)"
   ]
  },
  {
   "cell_type": "markdown",
   "metadata": {},
   "source": [
    "## データの準備\n",
    "### 住宅ローン履行 / 不履行の履歴データ"
   ]
  },
  {
   "cell_type": "markdown",
   "metadata": {},
   "source": [
    "Kaggle の [HMEQ_Data](https://www.kaggle.com/ajay1735/hmeq-data) を学習データにします。"
   ]
  },
  {
   "cell_type": "markdown",
   "metadata": {},
   "source": [
    "* BAD : 不履行フラグ\n",
    "* LOAN : 融資依頼金\n",
    "* MORTDUE : 未払担保金額\n",
    "* VALUE : 現在資産価値\n",
    "* REASON : 債務理由\n",
    "* JOB : 職種\n",
    "* YOJ : 勤務年数\n",
    "* DEROG : 信用調査会社問い合わせ数\n",
    "* DELINQ : 延滞トレードライン数\n",
    "* CLAGE : 最も古いトレードラインの月齢\n",
    "* NINQ : 最近のクレジット問い合わせ数\n",
    "* CLNO : トレード（クレジット）ラインの数\n",
    "* DEBTINC : 債務対所得割合"
   ]
  },
  {
   "cell_type": "code",
   "execution_count": 5,
   "metadata": {},
   "outputs": [
    {
     "name": "stderr",
     "output_type": "stream",
     "text": [
      "/Users/konabuta/miniconda3/envs/automl/lib/python3.6/site-packages/azureml/dataprep/api/dataflow.py:689: UserWarning: Please install pyarrow>=0.11.0 for improved performance of to_pandas_dataframe. You can ensure the correct version is installed by running: pip install azureml-dataprep[pandas].\n",
      "  warnings.warn('Please install pyarrow>=0.11.0 for improved performance of to_pandas_dataframe. '\n"
     ]
    },
    {
     "data": {
      "text/html": [
       "<div>\n",
       "<style scoped>\n",
       "    .dataframe tbody tr th:only-of-type {\n",
       "        vertical-align: middle;\n",
       "    }\n",
       "\n",
       "    .dataframe tbody tr th {\n",
       "        vertical-align: top;\n",
       "    }\n",
       "\n",
       "    .dataframe thead th {\n",
       "        text-align: right;\n",
       "    }\n",
       "</style>\n",
       "<table border=\"1\" class=\"dataframe\">\n",
       "  <thead>\n",
       "    <tr style=\"text-align: right;\">\n",
       "      <th></th>\n",
       "      <th>不履行フラグ</th>\n",
       "      <th>融資依頼金額</th>\n",
       "      <th>未払担保金額</th>\n",
       "      <th>現在資産価値</th>\n",
       "      <th>債務理由</th>\n",
       "      <th>職種</th>\n",
       "      <th>勤務年数</th>\n",
       "      <th>信用調査会社問い合わせ数</th>\n",
       "      <th>延滞トレードライン数</th>\n",
       "      <th>最も古いトレードラインの月齢</th>\n",
       "      <th>最近のクレジットの問い合わせ数</th>\n",
       "      <th>トレード(クレジット)ラインの数</th>\n",
       "      <th>債務対所得の割合</th>\n",
       "    </tr>\n",
       "  </thead>\n",
       "  <tbody>\n",
       "    <tr>\n",
       "      <th>0</th>\n",
       "      <td>1</td>\n",
       "      <td>1100</td>\n",
       "      <td>25860.00</td>\n",
       "      <td>39025.00</td>\n",
       "      <td>HomeImp</td>\n",
       "      <td>Other</td>\n",
       "      <td>10.50</td>\n",
       "      <td>0.00</td>\n",
       "      <td>0.00</td>\n",
       "      <td>94.37</td>\n",
       "      <td>1.00</td>\n",
       "      <td>9.00</td>\n",
       "      <td>nan</td>\n",
       "    </tr>\n",
       "    <tr>\n",
       "      <th>1</th>\n",
       "      <td>1</td>\n",
       "      <td>1300</td>\n",
       "      <td>70053.00</td>\n",
       "      <td>68400.00</td>\n",
       "      <td>HomeImp</td>\n",
       "      <td>Other</td>\n",
       "      <td>7.00</td>\n",
       "      <td>0.00</td>\n",
       "      <td>2.00</td>\n",
       "      <td>121.83</td>\n",
       "      <td>0.00</td>\n",
       "      <td>14.00</td>\n",
       "      <td>nan</td>\n",
       "    </tr>\n",
       "    <tr>\n",
       "      <th>2</th>\n",
       "      <td>1</td>\n",
       "      <td>1500</td>\n",
       "      <td>13500.00</td>\n",
       "      <td>16700.00</td>\n",
       "      <td>HomeImp</td>\n",
       "      <td>Other</td>\n",
       "      <td>4.00</td>\n",
       "      <td>0.00</td>\n",
       "      <td>0.00</td>\n",
       "      <td>149.47</td>\n",
       "      <td>1.00</td>\n",
       "      <td>10.00</td>\n",
       "      <td>nan</td>\n",
       "    </tr>\n",
       "    <tr>\n",
       "      <th>3</th>\n",
       "      <td>1</td>\n",
       "      <td>1500</td>\n",
       "      <td>nan</td>\n",
       "      <td>nan</td>\n",
       "      <td></td>\n",
       "      <td></td>\n",
       "      <td>nan</td>\n",
       "      <td>nan</td>\n",
       "      <td>nan</td>\n",
       "      <td>nan</td>\n",
       "      <td>nan</td>\n",
       "      <td>nan</td>\n",
       "      <td>nan</td>\n",
       "    </tr>\n",
       "    <tr>\n",
       "      <th>4</th>\n",
       "      <td>0</td>\n",
       "      <td>1700</td>\n",
       "      <td>97800.00</td>\n",
       "      <td>112000.00</td>\n",
       "      <td>HomeImp</td>\n",
       "      <td>Office</td>\n",
       "      <td>3.00</td>\n",
       "      <td>0.00</td>\n",
       "      <td>0.00</td>\n",
       "      <td>93.33</td>\n",
       "      <td>0.00</td>\n",
       "      <td>14.00</td>\n",
       "      <td>nan</td>\n",
       "    </tr>\n",
       "  </tbody>\n",
       "</table>\n",
       "</div>"
      ],
      "text/plain": [
       "  不履行フラグ  融資依頼金額   未払担保金額    現在資産価値     債務理由      職種  勤務年数  信用調査会社問い合わせ数  \\\n",
       "0      1    1100 25860.00  39025.00  HomeImp   Other 10.50          0.00   \n",
       "1      1    1300 70053.00  68400.00  HomeImp   Other  7.00          0.00   \n",
       "2      1    1500 13500.00  16700.00  HomeImp   Other  4.00          0.00   \n",
       "3      1    1500      nan       nan                    nan           nan   \n",
       "4      0    1700 97800.00 112000.00  HomeImp  Office  3.00          0.00   \n",
       "\n",
       "   延滞トレードライン数  最も古いトレードラインの月齢  最近のクレジットの問い合わせ数  トレード(クレジット)ラインの数  債務対所得の割合  \n",
       "0        0.00           94.37             1.00              9.00       nan  \n",
       "1        2.00          121.83             0.00             14.00       nan  \n",
       "2        0.00          149.47             1.00             10.00       nan  \n",
       "3         nan             nan              nan               nan       nan  \n",
       "4        0.00           93.33             0.00             14.00       nan  "
      ]
     },
     "execution_count": 5,
     "metadata": {},
     "output_type": "execute_result"
    }
   ],
   "source": [
    "dataset = Dataset.get_by_name(ws, name='hmeq_ja')\n",
    "dataset.to_pandas_dataframe().head()"
   ]
  },
  {
   "cell_type": "code",
   "execution_count": 6,
   "metadata": {},
   "outputs": [],
   "source": [
    "label = '不履行フラグ'"
   ]
  },
  {
   "cell_type": "code",
   "execution_count": 7,
   "metadata": {},
   "outputs": [],
   "source": [
    "train_data, test_data = dataset.random_split(percentage=0.95, seed=1234)"
   ]
  },
  {
   "cell_type": "code",
   "execution_count": 8,
   "metadata": {},
   "outputs": [
    {
     "data": {
      "text/html": [
       "<div>\n",
       "<style scoped>\n",
       "    .dataframe tbody tr th:only-of-type {\n",
       "        vertical-align: middle;\n",
       "    }\n",
       "\n",
       "    .dataframe tbody tr th {\n",
       "        vertical-align: top;\n",
       "    }\n",
       "\n",
       "    .dataframe thead th {\n",
       "        text-align: right;\n",
       "    }\n",
       "</style>\n",
       "<table border=\"1\" class=\"dataframe\">\n",
       "  <thead>\n",
       "    <tr style=\"text-align: right;\">\n",
       "      <th></th>\n",
       "      <th>不履行フラグ</th>\n",
       "      <th>融資依頼金額</th>\n",
       "      <th>未払担保金額</th>\n",
       "      <th>現在資産価値</th>\n",
       "      <th>債務理由</th>\n",
       "      <th>職種</th>\n",
       "      <th>勤務年数</th>\n",
       "      <th>信用調査会社問い合わせ数</th>\n",
       "      <th>延滞トレードライン数</th>\n",
       "      <th>最も古いトレードラインの月齢</th>\n",
       "      <th>最近のクレジットの問い合わせ数</th>\n",
       "      <th>トレード(クレジット)ラインの数</th>\n",
       "      <th>債務対所得の割合</th>\n",
       "    </tr>\n",
       "  </thead>\n",
       "  <tbody>\n",
       "    <tr>\n",
       "      <th>0</th>\n",
       "      <td>1</td>\n",
       "      <td>1100</td>\n",
       "      <td>25860.00</td>\n",
       "      <td>39025.00</td>\n",
       "      <td>HomeImp</td>\n",
       "      <td>Other</td>\n",
       "      <td>10.50</td>\n",
       "      <td>0.00</td>\n",
       "      <td>0.00</td>\n",
       "      <td>94.37</td>\n",
       "      <td>1.00</td>\n",
       "      <td>9.00</td>\n",
       "      <td>nan</td>\n",
       "    </tr>\n",
       "    <tr>\n",
       "      <th>1</th>\n",
       "      <td>1</td>\n",
       "      <td>1300</td>\n",
       "      <td>70053.00</td>\n",
       "      <td>68400.00</td>\n",
       "      <td>HomeImp</td>\n",
       "      <td>Other</td>\n",
       "      <td>7.00</td>\n",
       "      <td>0.00</td>\n",
       "      <td>2.00</td>\n",
       "      <td>121.83</td>\n",
       "      <td>0.00</td>\n",
       "      <td>14.00</td>\n",
       "      <td>nan</td>\n",
       "    </tr>\n",
       "    <tr>\n",
       "      <th>2</th>\n",
       "      <td>1</td>\n",
       "      <td>1500</td>\n",
       "      <td>13500.00</td>\n",
       "      <td>16700.00</td>\n",
       "      <td>HomeImp</td>\n",
       "      <td>Other</td>\n",
       "      <td>4.00</td>\n",
       "      <td>0.00</td>\n",
       "      <td>0.00</td>\n",
       "      <td>149.47</td>\n",
       "      <td>1.00</td>\n",
       "      <td>10.00</td>\n",
       "      <td>nan</td>\n",
       "    </tr>\n",
       "    <tr>\n",
       "      <th>3</th>\n",
       "      <td>1</td>\n",
       "      <td>1500</td>\n",
       "      <td>nan</td>\n",
       "      <td>nan</td>\n",
       "      <td></td>\n",
       "      <td></td>\n",
       "      <td>nan</td>\n",
       "      <td>nan</td>\n",
       "      <td>nan</td>\n",
       "      <td>nan</td>\n",
       "      <td>nan</td>\n",
       "      <td>nan</td>\n",
       "      <td>nan</td>\n",
       "    </tr>\n",
       "    <tr>\n",
       "      <th>4</th>\n",
       "      <td>0</td>\n",
       "      <td>1700</td>\n",
       "      <td>97800.00</td>\n",
       "      <td>112000.00</td>\n",
       "      <td>HomeImp</td>\n",
       "      <td>Office</td>\n",
       "      <td>3.00</td>\n",
       "      <td>0.00</td>\n",
       "      <td>0.00</td>\n",
       "      <td>93.33</td>\n",
       "      <td>0.00</td>\n",
       "      <td>14.00</td>\n",
       "      <td>nan</td>\n",
       "    </tr>\n",
       "  </tbody>\n",
       "</table>\n",
       "</div>"
      ],
      "text/plain": [
       "  不履行フラグ  融資依頼金額   未払担保金額    現在資産価値     債務理由      職種  勤務年数  信用調査会社問い合わせ数  \\\n",
       "0      1    1100 25860.00  39025.00  HomeImp   Other 10.50          0.00   \n",
       "1      1    1300 70053.00  68400.00  HomeImp   Other  7.00          0.00   \n",
       "2      1    1500 13500.00  16700.00  HomeImp   Other  4.00          0.00   \n",
       "3      1    1500      nan       nan                    nan           nan   \n",
       "4      0    1700 97800.00 112000.00  HomeImp  Office  3.00          0.00   \n",
       "\n",
       "   延滞トレードライン数  最も古いトレードラインの月齢  最近のクレジットの問い合わせ数  トレード(クレジット)ラインの数  債務対所得の割合  \n",
       "0        0.00           94.37             1.00              9.00       nan  \n",
       "1        2.00          121.83             0.00             14.00       nan  \n",
       "2        0.00          149.47             1.00             10.00       nan  \n",
       "3         nan             nan              nan               nan       nan  \n",
       "4        0.00           93.33             0.00             14.00       nan  "
      ]
     },
     "execution_count": 8,
     "metadata": {},
     "output_type": "execute_result"
    }
   ],
   "source": [
    "train_data.to_pandas_dataframe().head()"
   ]
  },
  {
   "cell_type": "code",
   "execution_count": 9,
   "metadata": {},
   "outputs": [
    {
     "data": {
      "text/plain": [
       "(5658, 13)"
      ]
     },
     "execution_count": 9,
     "metadata": {},
     "output_type": "execute_result"
    }
   ],
   "source": [
    "train_data.to_pandas_dataframe().shape"
   ]
  },
  {
   "cell_type": "markdown",
   "metadata": {},
   "source": [
    "## 自動機械学習の事前設定"
   ]
  },
  {
   "cell_type": "code",
   "execution_count": 10,
   "metadata": {},
   "outputs": [],
   "source": [
    "automl_settings = {\n",
    "    \"iteration_timeout_minutes\": 5,\n",
    "    \"iterations\": 5, #試行するモデルの数\n",
    "    \"n_cross_validations\": 3,\n",
    "    \"primary_metric\": 'accuracy',\n",
    "    \"preprocess\": True,\n",
    "    \"enable_voting_ensemble\": False,\n",
    "    \"enable_stack_ensemble\": False,\n",
    "    #\"model_explainability\" : True,\n",
    "}\n",
    "\n",
    "automl_config = AutoMLConfig(task = 'classification',\n",
    "                             training_data = train_data, # 学習データ\n",
    "                             label_column_name= label,  # 予測対象変数\n",
    "                             **automl_settings\n",
    "                            )"
   ]
  },
  {
   "cell_type": "code",
   "execution_count": 11,
   "metadata": {},
   "outputs": [
    {
     "name": "stderr",
     "output_type": "stream",
     "text": [
      "/Users/konabuta/miniconda3/envs/automl/lib/python3.6/site-packages/lightgbm/__init__.py:48: UserWarning: Starting from version 2.2.1, the library file in distribution wheels for macOS is built by the Apple Clang (Xcode_8.3.3) compiler.\n",
      "This means that in case of installing LightGBM from PyPI via the ``pip install lightgbm`` command, you don't need to install the gcc compiler anymore.\n",
      "Instead of that, you need to install the OpenMP library, which is required for running LightGBM on the system with the Apple Clang compiler.\n",
      "You can install the OpenMP library by the following command: ``brew install libomp``.\n",
      "  \"You can install the OpenMP library by the following command: ``brew install libomp``.\", UserWarning)\n"
     ]
    },
    {
     "name": "stdout",
     "output_type": "stream",
     "text": [
      "Running on local machine\n",
      "Parent Run ID: AutoML_e05c3a10-f12d-4797-aa35-f4b794eebb24\n",
      "\n",
      "Current status: DatasetFeaturization. Beginning to featurize the dataset.\n",
      "Current status: DatasetEvaluation. Gathering dataset statistics.\n",
      "Current status: FeaturesGeneration. Generating features for the dataset.\n",
      "Current status: DatasetFeaturizationCompleted. Completed featurizing the dataset.\n",
      "Current status: DatasetCrossValidationSplit. Generating individually featurized CV splits.\n",
      "\n",
      "****************************************************************************************************\n",
      "DATA GUARDRAILS: \n",
      "\n",
      "TYPE:         Class balancing detection\n",
      "STATUS:       PASSED\n",
      "DESCRIPTION:  Classes are balanced in the training data.\n",
      "\n",
      "TYPE:         Missing values imputation\n",
      "STATUS:       FIXED\n",
      "DESCRIPTION:  The training data had the following missing values which were resolved. Please review your data source for data quality issues and possibly filter out the rows with these missing values. If the missing values are expected, you can either accept the above imputation, or implement your own custom imputation that may be more appropriate based on the data type and business process.\n",
      "PARAMETERS:   Column name : 未払担保金額, Imputation type : mean\n",
      "              Column name : 現在資産価値, Imputation type : mean\n",
      "              Column name : 勤務年数, Imputation type : mean\n",
      "              Column name : 信用調査会社問い合わせ数, Imputation type : mean\n",
      "              Column name : 延滞トレードライン数, Imputation type : mean\n",
      "              Column name : 最も古いトレードラインの月齢, Imputation type : mean\n",
      "              Column name : 最近のクレジットの問い合わせ数, Imputation type : mean\n",
      "              Column name : トレード(クレジット)ラインの数, Imputation type : mean\n",
      "              Column name : 債務対所得の割合, Imputation type : mean\n",
      "              \n",
      "TYPE:         High cardinality feature detection\n",
      "STATUS:       PASSED\n",
      "DESCRIPTION:  Your inputs were analyzed, and no high cardinality features were detected.\n",
      "\n",
      "****************************************************************************************************\n",
      "Current status: ModelSelection. Beginning model selection.\n",
      "\n",
      "****************************************************************************************************\n",
      "ITERATION: The iteration being evaluated.\n",
      "PIPELINE: A summary description of the pipeline being evaluated.\n",
      "DURATION: Time taken for the current iteration.\n",
      "METRIC: The result of computing score on the fitted pipeline.\n",
      "BEST: The best observed score thus far.\n",
      "****************************************************************************************************\n",
      "\n",
      " ITERATION   PIPELINE                                       DURATION      METRIC      BEST\n",
      "         0   MaxAbsScaler SGD                               0:00:07       0.8864    0.8864\n",
      "         1   MaxAbsScaler SGD                               0:00:08       0.8598    0.8864\n",
      "         2   MaxAbsScaler ExtremeRandomTrees                0:00:08       0.8547    0.8864\n",
      "         3   MaxAbsScaler SGD                               0:00:07       0.8758    0.8864\n",
      "         4   MaxAbsScaler RandomForest                      0:00:08       0.8469    0.8864\n"
     ]
    }
   ],
   "source": [
    "local_run = experiment.submit(automl_config, show_output = True)"
   ]
  },
  {
   "cell_type": "code",
   "execution_count": 12,
   "metadata": {},
   "outputs": [
    {
     "data": {
      "application/vnd.jupyter.widget-view+json": {
       "model_id": "ebdc277db62c4a7d99e2a1686b3fe340",
       "version_major": 2,
       "version_minor": 0
      },
      "text/plain": [
       "_AutoMLWidget(widget_settings={'childWidgetDisplay': 'popup', 'send_telemetry': False, 'log_level': 'NOTSET', …"
      ]
     },
     "metadata": {},
     "output_type": "display_data"
    },
    {
     "data": {
      "application/aml.mini.widget.v1": "{\"status\": \"Completed\", \"workbench_run_details_uri\": \"https://ml.azure.com/experiments/automl-hmeq-ja/runs/AutoML_e05c3a10-f12d-4797-aa35-f4b794eebb24?wsid=/subscriptions/9c0f91b8-eb2f-484c-979c-15848c098a6b/resourcegroups/AML-HOL/workspaces/azureml\", \"run_id\": \"AutoML_e05c3a10-f12d-4797-aa35-f4b794eebb24\", \"run_properties\": {\"run_id\": \"AutoML_e05c3a10-f12d-4797-aa35-f4b794eebb24\", \"created_utc\": \"2019-12-10T15:10:24.624641Z\", \"properties\": {\"num_iterations\": \"5\", \"training_type\": \"TrainFull\", \"acquisition_function\": \"EI\", \"primary_metric\": \"accuracy\", \"train_split\": \"0\", \"MaxTimeSeconds\": \"300\", \"acquisition_parameter\": \"0\", \"num_cross_validation\": \"3\", \"target\": \"local\", \"RawAMLSettingsString\": \"{'name': 'automl-hmeq-ja', 'path': '.', 'subscription_id': '9c0f91b8-eb2f-484c-979c-15848c098a6b', 'resource_group': 'AML-HOL', 'workspace_name': 'azureml', 'region': 'japaneast', 'compute_target': 'local', 'spark_service': None, 'azure_service': None, 'iterations': 5, 'primary_metric': 'accuracy', 'task_type': 'classification', 'data_script': None, 'validation_size': 0.0, 'n_cross_validations': 3, 'y_min': None, 'y_max': None, 'num_classes': 2, 'featurization': 'auto', 'preprocess': True, 'lag_length': 0, 'is_timeseries': False, 'max_cores_per_iteration': 1, 'max_concurrent_iterations': 1, 'iteration_timeout_minutes': 5, 'mem_in_mb': None, 'enforce_time_on_windows': False, 'experiment_timeout_minutes': None, 'experiment_exit_score': None, 'whitelist_models': None, 'blacklist_algos': ['XGBoostClassifier', 'Prophet', 'KNN', 'SVM'], 'supported_models': ['AveragedPerceptronClassifier', 'GradientBoosting', 'KNN', 'LinearSVM', 'SVM', 'ExtremeRandomTrees', 'BernoulliNaiveBayes', 'LinearSVMClassifier', 'SGD', 'LogisticRegression', 'LightGBM', 'TensorFlowDNN', 'XGBoostClassifier', 'RandomForest', 'MultinomialNaiveBayes', 'DecisionTree', 'TensorFlowLinearClassifier'], 'auto_blacklist': True, 'blacklist_samples_reached': True, 'exclude_nan_labels': True, 'verbosity': 20, 'debug_log': 'automl.log', 'show_warnings': False, 'model_explainability': False, 'service_url': None, 'sdk_url': None, 'sdk_packages': None, 'enable_onnx_compatible_models': False, 'enable_split_onnx_featurizer_estimator_models': False, 'vm_type': None, 'telemetry_verbosity': 'NOTSET', 'send_telemetry': False, 'enable_dnn': False, 'enable_feature_sweeping': True, 'enable_early_stopping': False, 'early_stopping_n_iters': 10, 'metrics': None, 'enable_ensembling': False, 'enable_stack_ensembling': False, 'ensemble_iterations': 5, 'enable_tf': False, 'enable_cache': True, 'enable_subsampling': False, 'subsample_seed': None, 'enable_nimbusml': False, 'enable_streaming': False, 'label_column_name': '\\u4e0d\\u5c65\\u884c\\u30d5\\u30e9\\u30b0', 'weight_column_name': None, 'cost_mode': 0, 'metric_operation': 'maximize'}\", \"AMLSettingsJsonString\": \"{\\\"name\\\":\\\"automl-hmeq-ja\\\",\\\"path\\\":\\\".\\\",\\\"subscription_id\\\":\\\"9c0f91b8-eb2f-484c-979c-15848c098a6b\\\",\\\"resource_group\\\":\\\"AML-HOL\\\",\\\"workspace_name\\\":\\\"azureml\\\",\\\"region\\\":\\\"japaneast\\\",\\\"compute_target\\\":\\\"local\\\",\\\"spark_service\\\":null,\\\"azure_service\\\":null,\\\"iterations\\\":5,\\\"primary_metric\\\":\\\"accuracy\\\",\\\"task_type\\\":\\\"classification\\\",\\\"data_script\\\":null,\\\"validation_size\\\":0.0,\\\"n_cross_validations\\\":3,\\\"y_min\\\":null,\\\"y_max\\\":null,\\\"num_classes\\\":2,\\\"featurization\\\":\\\"auto\\\",\\\"preprocess\\\":true,\\\"lag_length\\\":0,\\\"is_timeseries\\\":false,\\\"max_cores_per_iteration\\\":1,\\\"max_concurrent_iterations\\\":1,\\\"iteration_timeout_minutes\\\":5,\\\"mem_in_mb\\\":null,\\\"enforce_time_on_windows\\\":false,\\\"experiment_timeout_minutes\\\":null,\\\"experiment_exit_score\\\":null,\\\"whitelist_models\\\":null,\\\"blacklist_algos\\\":[\\\"XGBoostClassifier\\\",\\\"Prophet\\\",\\\"KNN\\\",\\\"SVM\\\",\\\"AutoArima\\\"],\\\"supported_models\\\":[\\\"AveragedPerceptronClassifier\\\",\\\"GradientBoosting\\\",\\\"KNN\\\",\\\"LinearSVM\\\",\\\"SVM\\\",\\\"ExtremeRandomTrees\\\",\\\"BernoulliNaiveBayes\\\",\\\"LinearSVMClassifier\\\",\\\"SGD\\\",\\\"LogisticRegression\\\",\\\"LightGBM\\\",\\\"TensorFlowDNN\\\",\\\"XGBoostClassifier\\\",\\\"RandomForest\\\",\\\"MultinomialNaiveBayes\\\",\\\"DecisionTree\\\",\\\"TensorFlowLinearClassifier\\\"],\\\"auto_blacklist\\\":true,\\\"blacklist_samples_reached\\\":true,\\\"exclude_nan_labels\\\":true,\\\"verbosity\\\":20,\\\"debug_log\\\":\\\"automl.log\\\",\\\"show_warnings\\\":false,\\\"model_explainability\\\":false,\\\"service_url\\\":null,\\\"sdk_url\\\":null,\\\"sdk_packages\\\":null,\\\"enable_onnx_compatible_models\\\":false,\\\"enable_split_onnx_featurizer_estimator_models\\\":false,\\\"vm_type\\\":null,\\\"telemetry_verbosity\\\":\\\"NOTSET\\\",\\\"send_telemetry\\\":false,\\\"enable_dnn\\\":false,\\\"enable_feature_sweeping\\\":true,\\\"enable_early_stopping\\\":false,\\\"early_stopping_n_iters\\\":10,\\\"metrics\\\":null,\\\"enable_ensembling\\\":false,\\\"enable_stack_ensembling\\\":false,\\\"ensemble_iterations\\\":5,\\\"enable_tf\\\":false,\\\"enable_cache\\\":true,\\\"enable_subsampling\\\":false,\\\"subsample_seed\\\":null,\\\"enable_nimbusml\\\":false,\\\"enable_streaming\\\":false,\\\"label_column_name\\\":\\\"\\u4e0d\\u5c65\\u884c\\u30d5\\u30e9\\u30b0\\\",\\\"weight_column_name\\\":null,\\\"cost_mode\\\":0,\\\"metric_operation\\\":\\\"maximize\\\"}\", \"DataPrepJsonString\": null, \"EnableSubsampling\": \"False\", \"runTemplate\": \"AutoML\", \"azureml.runsource\": \"automl\", \"display_task_type\": \"classification\", \"dependencies_versions\": \"{\\\"azureml-widgets\\\": \\\"1.0.79\\\", \\\"azureml-train\\\": \\\"1.0.79\\\", \\\"azureml-train-restclients-hyperdrive\\\": \\\"1.0.79\\\", \\\"azureml-train-core\\\": \\\"1.0.79\\\", \\\"azureml-train-automl\\\": \\\"1.0.79\\\", \\\"azureml-train-automl-runtime\\\": \\\"1.0.79\\\", \\\"azureml-train-automl-client\\\": \\\"1.0.79\\\", \\\"azureml-telemetry\\\": \\\"1.0.79\\\", \\\"azureml-sdk\\\": \\\"1.0.79\\\", \\\"azureml-pipeline\\\": \\\"1.0.79\\\", \\\"azureml-pipeline-steps\\\": \\\"1.0.79\\\", \\\"azureml-pipeline-core\\\": \\\"1.0.79\\\", \\\"azureml-model-management-sdk\\\": \\\"1.0.1b6.post1\\\", \\\"azureml-interpret\\\": \\\"1.0.79\\\", \\\"azureml-explain-model\\\": \\\"1.0.79\\\", \\\"azureml-defaults\\\": \\\"1.0.79\\\", \\\"azureml-dataprep\\\": \\\"1.1.33\\\", \\\"azureml-dataprep-native\\\": \\\"13.1.0\\\", \\\"azureml-core\\\": \\\"1.0.79\\\", \\\"azureml-contrib-services\\\": \\\"1.0.79\\\", \\\"azureml-contrib-server\\\": \\\"1.0.79\\\", \\\"azureml-contrib-pipeline-steps\\\": \\\"1.0.79\\\", \\\"azureml-contrib-notebook\\\": \\\"1.0.79\\\", \\\"azureml-automl-runtime\\\": \\\"1.0.79\\\", \\\"azureml-automl-core\\\": \\\"1.0.79\\\"}\", \"ProblemInfoJsonString\": \"{\\\"dataset_num_categorical\\\": 0, \\\"is_sparse\\\": true, \\\"subsampling\\\": false, \\\"dataset_classes\\\": 2, \\\"dataset_features\\\": 29, \\\"dataset_samples\\\": 5658, \\\"single_frequency_class_detected\\\": false}\", \"azureml.git.repository_uri\": \"https://github.com/konabuta/DeepLearning-Workshop.git\", \"mlflow.source.git.repoURL\": \"https://github.com/konabuta/DeepLearning-Workshop.git\", \"azureml.git.branch\": \"master\", \"mlflow.source.git.branch\": \"master\", \"azureml.git.commit\": \"a45acfda4a1b7796871c6eee7c2413ce1cbd1685\", \"mlflow.source.git.commit\": \"a45acfda4a1b7796871c6eee7c2413ce1cbd1685\", \"azureml.git.dirty\": \"True\"}, \"tags\": {\"model_explain_run\": \"best_run\", \"experiment_status\": \"ModelSelection\", \"experiment_status_descr\": \"Beginning model selection.\"}, \"end_time_utc\": \"2019-12-10T15:11:34.411215Z\", \"status\": \"Completed\", \"log_files\": {}, \"log_groups\": [], \"run_duration\": \"0:01:09\"}, \"child_runs\": [{\"run_id\": \"AutoML_e05c3a10-f12d-4797-aa35-f4b794eebb24_0\", \"run_number\": 169, \"metric\": null, \"status\": \"Completed\", \"run_type\": null, \"training_percent\": \"100\", \"start_time\": \"2019-12-10T15:10:54.34306Z\", \"end_time\": \"2019-12-10T15:11:01.013088Z\", \"created_time\": \"2019-12-10T15:10:54.174003Z\", \"created_time_dt\": \"2019-12-10T15:10:54.174003Z\", \"duration\": \"0:00:06\", \"iteration\": \"0\", \"goal\": \"accuracy_max\", \"run_name\": \"MaxAbsScaler, SGD\", \"run_properties\": \"copy=True\", \"primary_metric\": 0.8863556, \"best_metric\": 0.8863556}, {\"run_id\": \"AutoML_e05c3a10-f12d-4797-aa35-f4b794eebb24_1\", \"run_number\": 170, \"metric\": null, \"status\": \"Completed\", \"run_type\": null, \"training_percent\": \"100\", \"start_time\": \"2019-12-10T15:11:02.428742Z\", \"end_time\": \"2019-12-10T15:11:09.232724Z\", \"created_time\": \"2019-12-10T15:11:02.276086Z\", \"created_time_dt\": \"2019-12-10T15:11:02.276086Z\", \"duration\": \"0:00:06\", \"iteration\": \"1\", \"goal\": \"accuracy_max\", \"run_name\": \"MaxAbsScaler, SGD\", \"run_properties\": \"copy=True\", \"primary_metric\": 0.85984447, \"best_metric\": 0.8863556}, {\"run_id\": \"AutoML_e05c3a10-f12d-4797-aa35-f4b794eebb24_2\", \"run_number\": 171, \"metric\": null, \"status\": \"Completed\", \"run_type\": null, \"training_percent\": \"100\", \"start_time\": \"2019-12-10T15:11:10.665244Z\", \"end_time\": \"2019-12-10T15:11:17.391749Z\", \"created_time\": \"2019-12-10T15:11:10.498891Z\", \"created_time_dt\": \"2019-12-10T15:11:10.498891Z\", \"duration\": \"0:00:06\", \"iteration\": \"2\", \"goal\": \"accuracy_max\", \"run_name\": \"MaxAbsScaler, ExtremeRandomTrees\", \"run_properties\": \"copy=True\", \"primary_metric\": 0.85471898, \"best_metric\": 0.8863556}, {\"run_id\": \"AutoML_e05c3a10-f12d-4797-aa35-f4b794eebb24_3\", \"run_number\": 172, \"metric\": null, \"status\": \"Completed\", \"run_type\": null, \"training_percent\": \"100\", \"start_time\": \"2019-12-10T15:11:18.784101Z\", \"end_time\": \"2019-12-10T15:11:25.055785Z\", \"created_time\": \"2019-12-10T15:11:18.655371Z\", \"created_time_dt\": \"2019-12-10T15:11:18.655371Z\", \"duration\": \"0:00:06\", \"iteration\": \"3\", \"goal\": \"accuracy_max\", \"run_name\": \"MaxAbsScaler, SGD\", \"run_properties\": \"copy=True\", \"primary_metric\": 0.87575115, \"best_metric\": 0.8863556}, {\"run_id\": \"AutoML_e05c3a10-f12d-4797-aa35-f4b794eebb24_4\", \"run_number\": 173, \"metric\": null, \"status\": \"Completed\", \"run_type\": null, \"training_percent\": \"100\", \"start_time\": \"2019-12-10T15:11:26.497365Z\", \"end_time\": \"2019-12-10T15:11:33.538916Z\", \"created_time\": \"2019-12-10T15:11:26.299698Z\", \"created_time_dt\": \"2019-12-10T15:11:26.299698Z\", \"duration\": \"0:00:07\", \"iteration\": \"4\", \"goal\": \"accuracy_max\", \"run_name\": \"MaxAbsScaler, RandomForest\", \"run_properties\": \"copy=True\", \"primary_metric\": 0.84694238, \"best_metric\": 0.8863556}], \"children_metrics\": {\"categories\": [0], \"series\": {\"precision_score_macro\": [{\"categories\": [\"0\", \"1\", \"2\", \"3\", \"4\"], \"mode\": \"markers\", \"name\": \"precision_score_macro\", \"stepped\": false, \"type\": \"scatter\", \"data\": [0.8488632253161913, 0.7782075863018196, 0.7710500062813971, 0.8087361494142445, 0.7630293552739982]}, {\"categories\": [\"0\", \"1\", \"2\", \"3\", \"4\"], \"mode\": \"lines\", \"name\": \"precision_score_macro_max\", \"stepped\": true, \"type\": \"scatter\", \"data\": [0.8488632253161913, 0.8488632253161913, 0.8488632253161913, 0.8488632253161913, 0.8488632253161913]}], \"recall_score_macro\": [{\"categories\": [\"0\", \"1\", \"2\", \"3\", \"4\"], \"mode\": \"markers\", \"name\": \"recall_score_macro\", \"stepped\": false, \"type\": \"scatter\", \"data\": [0.7707353090095873, 0.809466018984429, 0.7789984452102233, 0.790169994167651, 0.8172598561307775]}, {\"categories\": [\"0\", \"1\", \"2\", \"3\", \"4\"], \"mode\": \"lines\", \"name\": \"recall_score_macro_max\", \"stepped\": true, \"type\": \"scatter\", \"data\": [0.7707353090095873, 0.809466018984429, 0.809466018984429, 0.809466018984429, 0.8172598561307775]}], \"average_precision_score_micro\": [{\"categories\": [\"0\", \"1\", \"2\", \"3\", \"4\"], \"mode\": \"markers\", \"name\": \"average_precision_score_micro\", \"stepped\": false, \"type\": \"scatter\", \"data\": [0.9462030922082408, 0.8739707410077497, 0.8073219196311981, 0.9410615840625075, 0.9121254901451809]}, {\"categories\": [\"0\", \"1\", \"2\", \"3\", \"4\"], \"mode\": \"lines\", \"name\": \"average_precision_score_micro_max\", \"stepped\": true, \"type\": \"scatter\", \"data\": [0.9462030922082408, 0.9462030922082408, 0.9462030922082408, 0.9462030922082408, 0.9462030922082408]}], \"norm_macro_recall\": [{\"categories\": [\"0\", \"1\", \"2\", \"3\", \"4\"], \"mode\": \"markers\", \"name\": \"norm_macro_recall\", \"stepped\": false, \"type\": \"scatter\", \"data\": [0.5414706180191747, 0.618932037968858, 0.5579968904204465, 0.5803399883353019, 0.634519712261555]}, {\"categories\": [\"0\", \"1\", \"2\", \"3\", \"4\"], \"mode\": \"lines\", \"name\": \"norm_macro_recall_max\", \"stepped\": true, \"type\": \"scatter\", \"data\": [0.5414706180191747, 0.618932037968858, 0.618932037968858, 0.618932037968858, 0.634519712261555]}], \"balanced_accuracy\": [{\"categories\": [\"0\", \"1\", \"2\", \"3\", \"4\"], \"mode\": \"markers\", \"name\": \"balanced_accuracy\", \"stepped\": false, \"type\": \"scatter\", \"data\": [0.7707353090095873, 0.809466018984429, 0.7789984452102233, 0.790169994167651, 0.8172598561307775]}, {\"categories\": [\"0\", \"1\", \"2\", \"3\", \"4\"], \"mode\": \"lines\", \"name\": \"balanced_accuracy_max\", \"stepped\": true, \"type\": \"scatter\", \"data\": [0.7707353090095873, 0.809466018984429, 0.809466018984429, 0.809466018984429, 0.8172598561307775]}], \"precision_score_micro\": [{\"categories\": [\"0\", \"1\", \"2\", \"3\", \"4\"], \"mode\": \"markers\", \"name\": \"precision_score_micro\", \"stepped\": false, \"type\": \"scatter\", \"data\": [0.8863556026864616, 0.8598444680098974, 0.8547189819724285, 0.8757511488158359, 0.8469423824673029]}, {\"categories\": [\"0\", \"1\", \"2\", \"3\", \"4\"], \"mode\": \"lines\", \"name\": \"precision_score_micro_max\", \"stepped\": true, \"type\": \"scatter\", \"data\": [0.8863556026864616, 0.8863556026864616, 0.8863556026864616, 0.8863556026864616, 0.8863556026864616]}], \"weighted_accuracy\": [{\"categories\": [\"0\", \"1\", \"2\", \"3\", \"4\"], \"mode\": \"markers\", \"name\": \"weighted_accuracy\", \"stepped\": false, \"type\": \"scatter\", \"data\": [0.9402046855015235, 0.8832696539221206, 0.889918992714843, 0.9156950656314451, 0.8607758032466585]}, {\"categories\": [\"0\", \"1\", \"2\", \"3\", \"4\"], \"mode\": \"lines\", \"name\": \"weighted_accuracy_max\", \"stepped\": true, \"type\": \"scatter\", \"data\": [0.9402046855015235, 0.9402046855015235, 0.9402046855015235, 0.9402046855015235, 0.9402046855015235]}], \"average_precision_score_macro\": [{\"categories\": [\"0\", \"1\", \"2\", \"3\", \"4\"], \"mode\": \"markers\", \"name\": \"average_precision_score_macro\", \"stepped\": false, \"type\": \"scatter\", \"data\": [0.8706261982117192, 0.854224762626015, 0.7793749986918218, 0.8565394923242984, 0.855886249001608]}, {\"categories\": [\"0\", \"1\", \"2\", \"3\", \"4\"], \"mode\": \"lines\", \"name\": \"average_precision_score_macro_max\", \"stepped\": true, \"type\": \"scatter\", \"data\": [0.8706261982117192, 0.8706261982117192, 0.8706261982117192, 0.8706261982117192, 0.8706261982117192]}], \"f1_score_micro\": [{\"categories\": [\"0\", \"1\", \"2\", \"3\", \"4\"], \"mode\": \"markers\", \"name\": \"f1_score_micro\", \"stepped\": false, \"type\": \"scatter\", \"data\": [0.8863556026864616, 0.8598444680098974, 0.8547189819724285, 0.8757511488158359, 0.8469423824673029]}, {\"categories\": [\"0\", \"1\", \"2\", \"3\", \"4\"], \"mode\": \"lines\", \"name\": \"f1_score_micro_max\", \"stepped\": true, \"type\": \"scatter\", \"data\": [0.8863556026864616, 0.8863556026864616, 0.8863556026864616, 0.8863556026864616, 0.8863556026864616]}], \"accuracy\": [{\"categories\": [\"0\", \"1\", \"2\", \"3\", \"4\"], \"mode\": \"markers\", \"name\": \"accuracy\", \"stepped\": false, \"type\": \"scatter\", \"data\": [0.8863556026864616, 0.8598444680098974, 0.8547189819724285, 0.8757511488158359, 0.8469423824673029]}, {\"categories\": [\"0\", \"1\", \"2\", \"3\", \"4\"], \"mode\": \"lines\", \"name\": \"accuracy_max\", \"stepped\": true, \"type\": \"scatter\", \"data\": [0.8863556026864616, 0.8863556026864616, 0.8863556026864616, 0.8863556026864616, 0.8863556026864616]}], \"recall_score_weighted\": [{\"categories\": [\"0\", \"1\", \"2\", \"3\", \"4\"], \"mode\": \"markers\", \"name\": \"recall_score_weighted\", \"stepped\": false, \"type\": \"scatter\", \"data\": [0.8863556026864616, 0.8598444680098974, 0.8547189819724285, 0.8757511488158359, 0.8469423824673029]}, {\"categories\": [\"0\", \"1\", \"2\", \"3\", \"4\"], \"mode\": \"lines\", \"name\": \"recall_score_weighted_max\", \"stepped\": true, \"type\": \"scatter\", \"data\": [0.8863556026864616, 0.8863556026864616, 0.8863556026864616, 0.8863556026864616, 0.8863556026864616]}], \"AUC_macro\": [{\"categories\": [\"0\", \"1\", \"2\", \"3\", \"4\"], \"mode\": \"markers\", \"name\": \"AUC_macro\", \"stepped\": false, \"type\": \"scatter\", \"data\": [0.9037684487721758, 0.8887126036114038, 0.8392649519596236, 0.8913239707432211, 0.9041293587622663]}, {\"categories\": [\"0\", \"1\", \"2\", \"3\", \"4\"], \"mode\": \"lines\", \"name\": \"AUC_macro_max\", \"stepped\": true, \"type\": \"scatter\", \"data\": [0.9037684487721758, 0.9037684487721758, 0.9037684487721758, 0.9037684487721758, 0.9041293587622663]}], \"log_loss\": [{\"categories\": [\"0\", \"1\", \"2\", \"3\", \"4\"], \"mode\": \"markers\", \"name\": \"log_loss\", \"stepped\": false, \"type\": \"scatter\", \"data\": [0.4831849963152406, 0.41761839454683636, 0.5997833350110665, 0.3084446822809881, 0.4088485324172886]}, {\"categories\": [\"0\", \"1\", \"2\", \"3\", \"4\"], \"mode\": \"lines\", \"name\": \"log_loss_min\", \"stepped\": true, \"type\": \"scatter\", \"data\": [0.4831849963152406, 0.41761839454683636, 0.41761839454683636, 0.3084446822809881, 0.3084446822809881]}], \"f1_score_weighted\": [{\"categories\": [\"0\", \"1\", \"2\", \"3\", \"4\"], \"mode\": \"markers\", \"name\": \"f1_score_weighted\", \"stepped\": false, \"type\": \"scatter\", \"data\": [0.879364871792435, 0.8635555998742636, 0.8557348986772649, 0.8738326371718133, 0.8542164408405944]}, {\"categories\": [\"0\", \"1\", \"2\", \"3\", \"4\"], \"mode\": \"lines\", \"name\": \"f1_score_weighted_max\", \"stepped\": true, \"type\": \"scatter\", \"data\": [0.879364871792435, 0.879364871792435, 0.879364871792435, 0.879364871792435, 0.879364871792435]}], \"AUC_micro\": [{\"categories\": [\"0\", \"1\", \"2\", \"3\", \"4\"], \"mode\": \"markers\", \"name\": \"AUC_micro\", \"stepped\": false, \"type\": \"scatter\", \"data\": [0.9498316369580774, 0.8862535502804425, 0.8519992712952166, 0.9424595923076664, 0.914288067796534]}, {\"categories\": [\"0\", \"1\", \"2\", \"3\", \"4\"], \"mode\": \"lines\", \"name\": \"AUC_micro_max\", \"stepped\": true, \"type\": \"scatter\", \"data\": [0.9498316369580774, 0.9498316369580774, 0.9498316369580774, 0.9498316369580774, 0.9498316369580774]}], \"precision_score_weighted\": [{\"categories\": [\"0\", \"1\", \"2\", \"3\", \"4\"], \"mode\": \"markers\", \"name\": \"precision_score_weighted\", \"stepped\": false, \"type\": \"scatter\", \"data\": [0.8811058400618087, 0.8695868037423778, 0.8570918898821414, 0.8726756088637609, 0.8686417198059768]}, {\"categories\": [\"0\", \"1\", \"2\", \"3\", \"4\"], \"mode\": \"lines\", \"name\": \"precision_score_weighted_max\", \"stepped\": true, \"type\": \"scatter\", \"data\": [0.8811058400618087, 0.8811058400618087, 0.8811058400618087, 0.8811058400618087, 0.8811058400618087]}], \"AUC_weighted\": [{\"categories\": [\"0\", \"1\", \"2\", \"3\", \"4\"], \"mode\": \"markers\", \"name\": \"AUC_weighted\", \"stepped\": false, \"type\": \"scatter\", \"data\": [0.9037684487721757, 0.8887126036114038, 0.8392649519596236, 0.8913239707432211, 0.9041293587622663]}, {\"categories\": [\"0\", \"1\", \"2\", \"3\", \"4\"], \"mode\": \"lines\", \"name\": \"AUC_weighted_max\", \"stepped\": true, \"type\": \"scatter\", \"data\": [0.9037684487721757, 0.9037684487721757, 0.9037684487721757, 0.9037684487721757, 0.9041293587622663]}], \"f1_score_macro\": [{\"categories\": [\"0\", \"1\", \"2\", \"3\", \"4\"], \"mode\": \"markers\", \"name\": \"f1_score_macro\", \"stepped\": false, \"type\": \"scatter\", \"data\": [0.8002796001343407, 0.7915736957301315, 0.7746858760918913, 0.7986684797281706, 0.7833164389865473]}, {\"categories\": [\"0\", \"1\", \"2\", \"3\", \"4\"], \"mode\": \"lines\", \"name\": \"f1_score_macro_max\", \"stepped\": true, \"type\": \"scatter\", \"data\": [0.8002796001343407, 0.8002796001343407, 0.8002796001343407, 0.8002796001343407, 0.8002796001343407]}], \"recall_score_micro\": [{\"categories\": [\"0\", \"1\", \"2\", \"3\", \"4\"], \"mode\": \"markers\", \"name\": \"recall_score_micro\", \"stepped\": false, \"type\": \"scatter\", \"data\": [0.8863556026864616, 0.8598444680098974, 0.8547189819724285, 0.8757511488158359, 0.8469423824673029]}, {\"categories\": [\"0\", \"1\", \"2\", \"3\", \"4\"], \"mode\": \"lines\", \"name\": \"recall_score_micro_max\", \"stepped\": true, \"type\": \"scatter\", \"data\": [0.8863556026864616, 0.8863556026864616, 0.8863556026864616, 0.8863556026864616, 0.8863556026864616]}], \"average_precision_score_weighted\": [{\"categories\": [\"0\", \"1\", \"2\", \"3\", \"4\"], \"mode\": \"markers\", \"name\": \"average_precision_score_weighted\", \"stepped\": false, \"type\": \"scatter\", \"data\": [0.9288838202219432, 0.9206707097099867, 0.8772671673038537, 0.9222142284675837, 0.9256031560976914]}, {\"categories\": [\"0\", \"1\", \"2\", \"3\", \"4\"], \"mode\": \"lines\", \"name\": \"average_precision_score_weighted_max\", \"stepped\": true, \"type\": \"scatter\", \"data\": [0.9288838202219432, 0.9288838202219432, 0.9288838202219432, 0.9288838202219432, 0.9288838202219432]}]}, \"metricName\": null, \"primaryMetricName\": \"accuracy\", \"showLegend\": false}, \"run_metrics\": [], \"run_logs\": \"\\nRun is completed.\", \"graph\": {}, \"widget_settings\": {\"childWidgetDisplay\": \"popup\", \"send_telemetry\": false, \"log_level\": \"NOTSET\", \"sdk_version\": \"1.0.79\"}, \"loading\": false}"
     },
     "metadata": {},
     "output_type": "display_data"
    }
   ],
   "source": [
    "from azureml.widgets import RunDetails\n",
    "RunDetails(local_run).show()"
   ]
  },
  {
   "cell_type": "code",
   "execution_count": 13,
   "metadata": {},
   "outputs": [
    {
     "data": {
      "text/html": [
       "<table style=\"width:100%\"><tr><th>Experiment</th><th>Id</th><th>Type</th><th>Status</th><th>Details Page</th><th>Docs Page</th></tr><tr><td>automl-hmeq-ja</td><td>AutoML_e05c3a10-f12d-4797-aa35-f4b794eebb24_0</td><td></td><td>Completed</td><td><a href=\"https://ml.azure.com/experiments/automl-hmeq-ja/runs/AutoML_e05c3a10-f12d-4797-aa35-f4b794eebb24_0?wsid=/subscriptions/9c0f91b8-eb2f-484c-979c-15848c098a6b/resourcegroups/AML-HOL/workspaces/azureml\" target=\"_blank\" rel=\"noopener\">Link to Azure Machine Learning studio</a></td><td><a href=\"https://docs.microsoft.com/en-us/python/api/azureml-core/azureml.core.run.Run?view=azure-ml-py\" target=\"_blank\" rel=\"noopener\">Link to Documentation</a></td></tr></table>"
      ],
      "text/plain": [
       "Run(Experiment: automl-hmeq-ja,\n",
       "Id: AutoML_e05c3a10-f12d-4797-aa35-f4b794eebb24_0,\n",
       "Type: None,\n",
       "Status: Completed)"
      ]
     },
     "execution_count": 13,
     "metadata": {},
     "output_type": "execute_result"
    }
   ],
   "source": [
    "automl_run, fitted_model = local_run.get_output()\n",
    "automl_run"
   ]
  },
  {
   "cell_type": "markdown",
   "metadata": {},
   "source": [
    "## モデル解釈\n",
    "Automated ML のモデルを解釈していきます。"
   ]
  },
  {
   "cell_type": "code",
   "execution_count": 14,
   "metadata": {},
   "outputs": [
    {
     "ename": "ModuleNotFoundError",
     "evalue": "No module named 'azureml.contrib.interpret'",
     "output_type": "error",
     "traceback": [
      "\u001b[0;31m---------------------------------------------------------------------------\u001b[0m",
      "\u001b[0;31mModuleNotFoundError\u001b[0m                       Traceback (most recent call last)",
      "\u001b[0;32m<ipython-input-14-648437fa02eb>\u001b[0m in \u001b[0;36m<module>\u001b[0;34m\u001b[0m\n\u001b[1;32m      2\u001b[0m \u001b[0;32mfrom\u001b[0m \u001b[0mazureml\u001b[0m\u001b[0;34m.\u001b[0m\u001b[0mexplain\u001b[0m\u001b[0;34m.\u001b[0m\u001b[0mmodel\u001b[0m\u001b[0;34m.\u001b[0m\u001b[0mmimic\u001b[0m\u001b[0;34m.\u001b[0m\u001b[0mmodels\u001b[0m\u001b[0;34m.\u001b[0m\u001b[0mlightgbm_model\u001b[0m \u001b[0;32mimport\u001b[0m \u001b[0mLGBMExplainableModel\u001b[0m\u001b[0;34m\u001b[0m\u001b[0;34m\u001b[0m\u001b[0m\n\u001b[1;32m      3\u001b[0m \u001b[0;32mfrom\u001b[0m \u001b[0mazureml\u001b[0m\u001b[0;34m.\u001b[0m\u001b[0mexplain\u001b[0m\u001b[0;34m.\u001b[0m\u001b[0mmodel\u001b[0m\u001b[0;34m.\u001b[0m\u001b[0mmimic_wrapper\u001b[0m \u001b[0;32mimport\u001b[0m \u001b[0mMimicWrapper\u001b[0m\u001b[0;34m\u001b[0m\u001b[0;34m\u001b[0m\u001b[0m\n\u001b[0;32m----> 4\u001b[0;31m \u001b[0;32mfrom\u001b[0m \u001b[0mazureml\u001b[0m\u001b[0;34m.\u001b[0m\u001b[0mcontrib\u001b[0m\u001b[0;34m.\u001b[0m\u001b[0minterpret\u001b[0m\u001b[0;34m.\u001b[0m\u001b[0mvisualize\u001b[0m \u001b[0;32mimport\u001b[0m \u001b[0mExplanationDashboard\u001b[0m\u001b[0;34m\u001b[0m\u001b[0;34m\u001b[0m\u001b[0m\n\u001b[0m",
      "\u001b[0;31mModuleNotFoundError\u001b[0m: No module named 'azureml.contrib.interpret'"
     ]
    }
   ],
   "source": [
    "from azureml.train.automl.runtime.automl_explain_utilities import AutoMLExplainerSetupClass, automl_setup_model_explanations\n",
    "from azureml.explain.model.mimic.models.lightgbm_model import LGBMExplainableModel\n",
    "from azureml.explain.model.mimic_wrapper import MimicWrapper\n",
    "from azureml.contrib.interpret.visualize import ExplanationDashboard"
   ]
  },
  {
   "cell_type": "code",
   "execution_count": null,
   "metadata": {},
   "outputs": [],
   "source": [
    "# モデル解釈に利用するデータの準備\n",
    "X_train = train_data.drop_columns([label])\n",
    "y_train = train_data.keep_columns([label])\n",
    "X_test = test_data.drop_columns([label])\n",
    "y_test = test_data.keep_columns([label])"
   ]
  },
  {
   "cell_type": "code",
   "execution_count": null,
   "metadata": {},
   "outputs": [],
   "source": [
    "automl_explainer_setup_obj = automl_setup_model_explanations(fitted_model, 'classification',\n",
    "                                                             X=X_train, X_test=X_test,\n",
    "                                                             y=y_train)"
   ]
  },
  {
   "cell_type": "code",
   "execution_count": null,
   "metadata": {},
   "outputs": [],
   "source": [
    "# import pandas as pd\n",
    "# pd.DataFrame(automl_explainer_setup_obj.X_test_transform.toarray(), columns=automl_explainer_setup_obj.engineered_feature_names)"
   ]
  },
  {
   "cell_type": "markdown",
   "metadata": {},
   "source": [
    "### Engineered Explanation (データ前処理以後の変数)"
   ]
  },
  {
   "cell_type": "code",
   "execution_count": null,
   "metadata": {},
   "outputs": [],
   "source": [
    "# Global surrogate model\n",
    "explainer = MimicWrapper(ws, automl_explainer_setup_obj.automl_estimator, LGBMExplainableModel,\n",
    "                         init_dataset=automl_explainer_setup_obj.X_transform, run=automl_run,\n",
    "                         features=automl_explainer_setup_obj.engineered_feature_names,\n",
    "                         feature_maps=[automl_explainer_setup_obj.feature_map],\n",
    "                         classes=automl_explainer_setup_obj.classes)"
   ]
  },
  {
   "cell_type": "code",
   "execution_count": null,
   "metadata": {},
   "outputs": [],
   "source": [
    "# Compute the engineered explanations\n",
    "engineered_explanations = explainer.explain(['local', 'global'],get_raw=False,\n",
    "                                            eval_dataset=automl_explainer_setup_obj.X_test_transform)"
   ]
  },
  {
   "cell_type": "code",
   "execution_count": null,
   "metadata": {},
   "outputs": [],
   "source": [
    "ExplanationDashboard(engineered_explanations, \n",
    "                     automl_explainer_setup_obj.automl_estimator, \n",
    "                     automl_explainer_setup_obj.X_test_transform, \n",
    "                     y_train.to_pandas_dataframe().values)"
   ]
  },
  {
   "cell_type": "code",
   "execution_count": null,
   "metadata": {},
   "outputs": [],
   "source": [
    "ExplanationDashboard(engineered_explanations, \n",
    "                     automl_explainer_setup_obj.automl_estimator, \n",
    "                     automl_explainer_setup_obj.X_test_transform, \n",
    "                     y_test.to_pandas_dataframe().values)"
   ]
  },
  {
   "cell_type": "markdown",
   "metadata": {},
   "source": [
    "### RAW Explanation (データ前処理以前の変数)"
   ]
  },
  {
   "cell_type": "code",
   "execution_count": null,
   "metadata": {},
   "outputs": [],
   "source": [
    "# Compute the raw explanations\n",
    "raw_explanations = explainer.explain(['local', 'global'], get_raw=True,\n",
    "                                     raw_feature_names=automl_explainer_setup_obj.raw_feature_names,\n",
    "                                     eval_dataset=automl_explainer_setup_obj.X_test_transform)"
   ]
  },
  {
   "cell_type": "code",
   "execution_count": null,
   "metadata": {
    "scrolled": true
   },
   "outputs": [],
   "source": [
    "ExplanationDashboard(raw_explanations, \n",
    "                     automl_explainer_setup_obj.automl_pipeline, \n",
    "                     automl_explainer_setup_obj.X_test_raw, \n",
    "                     y_test.to_pandas_dataframe().values)"
   ]
  },
  {
   "cell_type": "code",
   "execution_count": null,
   "metadata": {},
   "outputs": [],
   "source": [
    "ExplanationDashboard(raw_explanations, \n",
    "                     automl_explainer_setup_obj.automl_pipeline, \n",
    "                     automl_explainer_setup_obj.X_test_raw, \n",
    "                     y_train.to_pandas_dataframe().values)"
   ]
  },
  {
   "cell_type": "code",
   "execution_count": null,
   "metadata": {},
   "outputs": [],
   "source": [
    "from interpret_community.widget import ExplanationDashboard\n",
    "ExplanationDashboard(raw_explanations, \n",
    "                     automl_explainer_setup_obj.automl_pipeline, \n",
    "                     datasetX=automl_explainer_setup_obj.X_test_raw, \n",
    "                     trueY=y_train.to_pandas_dataframe().values)"
   ]
  },
  {
   "cell_type": "code",
   "execution_count": null,
   "metadata": {},
   "outputs": [],
   "source": [
    "automl_explainer_setup_obj.X_test_raw.shape"
   ]
  },
  {
   "cell_type": "code",
   "execution_count": null,
   "metadata": {},
   "outputs": [],
   "source": [
    "len(y_test.to_pandas_dataframe().values)"
   ]
  },
  {
   "cell_type": "code",
   "execution_count": null,
   "metadata": {},
   "outputs": [],
   "source": []
  }
 ],
 "metadata": {
  "kernelspec": {
   "display_name": "automl",
   "language": "python",
   "name": "automl"
  },
  "language_info": {
   "codemirror_mode": {
    "name": "ipython",
    "version": 3
   },
   "file_extension": ".py",
   "mimetype": "text/x-python",
   "name": "python",
   "nbconvert_exporter": "python",
   "pygments_lexer": "ipython3",
   "version": "3.6.9"
  }
 },
 "nbformat": 4,
 "nbformat_minor": 1
}
