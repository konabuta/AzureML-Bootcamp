{
 "cells": [
  {
   "cell_type": "markdown",
   "metadata": {},
   "source": [
    "# コードなしのデプロイとカスタムコードのデプロイ\n",
    "\n",
    "本ノートブックでは、\n",
    " - Azure Machine Learning ワークスペースを登録する方法を学びます。\n",
    " - Azure Container Instances にモデルをデプロイする2通りの方法を学びます。\n",
    "     - コードなしのデプロイ\n",
    "     - カスタムコードのデプロイ\n",
    "\n",
    "※ 参照：[Azure Machine Learning を使用してモデルをデプロイする](https://docs.microsoft.com/ja-jp/azure/machine-learning/how-to-deploy-and-where)"
   ]
  },
  {
   "cell_type": "markdown",
   "metadata": {},
   "source": [
    "## 1. 事前準備\n",
    "### Python SDK のインポート\n",
    "Azure Machine Learning の Python SDKをインポートします"
   ]
  },
  {
   "cell_type": "markdown",
   "metadata": {},
   "source": [
    "<div class=\"alert alert-info\"><h4> Python 環境について</h4><p>\n",
    "    \n",
    "Azure Machine Learning Python SDK が導入されている環境であれば、オンプレミスのクライアント PC の Python 環境からもご利用になれます。クライアント PC へのインストール方法については、ドキュメントをご参照ください。\n",
    "    \n",
    "**ドキュメント**：[Azure Machine Learning のための開発環境を構成する](https://docs.microsoft.com/ja-jp/azure/machine-learning/how-to-configure-environment#local)\n",
    "</p></div>"
   ]
  },
  {
   "cell_type": "code",
   "execution_count": null,
   "metadata": {},
   "outputs": [],
   "source": [
    "import azureml.core\n",
    "\n",
    "# Check core SDK version number.\n",
    "print('SDK version:', azureml.core.VERSION)"
   ]
  },
  {
   "cell_type": "markdown",
   "metadata": {},
   "source": [
    "### Azure Machine Learning Workspace との接続"
   ]
  },
  {
   "cell_type": "code",
   "execution_count": null,
   "metadata": {
    "tags": [
     "create workspace"
    ]
   },
   "outputs": [],
   "source": [
    "from azureml.core import Workspace\n",
    "\n",
    "ws = Workspace.from_config()\n",
    "print(ws.name, ws.resource_group, ws.location, ws.subscription_id, sep='\\n')"
   ]
  },
  {
   "cell_type": "markdown",
   "metadata": {},
   "source": [
    "### インプットデータとアウトプットデータの指定\n",
    "\n",
    "scikit-learn の [diabates データセット](https://scikit-learn.org/stable/datasets/index.html#diabetes-dataset) を用いて学習された `sklearn_regression_model.pkl` を登録してきます。まず、このモデルへのインプットデータとアウトプットデータと指定します。"
   ]
  },
  {
   "cell_type": "code",
   "execution_count": null,
   "metadata": {},
   "outputs": [],
   "source": [
    "from azureml.core import Dataset\n",
    "\n",
    "datastore = ws.get_default_datastore()\n",
    "datastore.upload_files(files=['./features.csv', './labels.csv'],\n",
    "                       target_path='sklearn_regression/',\n",
    "                       overwrite=True)\n",
    "\n",
    "input_dataset = Dataset.Tabular.from_delimited_files(path=[(datastore, 'sklearn_regression/features.csv')])\n",
    "output_dataset = Dataset.Tabular.from_delimited_files(path=[(datastore, 'sklearn_regression/labels.csv')])"
   ]
  },
  {
   "cell_type": "markdown",
   "metadata": {},
   "source": [
    "## 2. モデル登録とデプロイメント\n",
    "### モデルの登録\n",
    "\n",
    "[Model.register()](https://docs.microsoft.com/en-us/python/api/azureml-core/azureml.core.model.model?view=azure-ml-py#register-workspace--model-path--model-name--tags-none--properties-none--description-none--datasets-none--model-framework-none--model-framework-version-none--child-paths-none-) を呼び出してモデル登録を行います。\n",
    "\n",
    "また、モデルのフレームワークやバージョンなどのメタ情報も付与することで **[コードなしのデプロイ](https://docs.microsoft.com/ja-jp/azure/machine-learning/how-to-deploy-and-where#preview-no-code-model-deployment)** の機能を有効にします。"
   ]
  },
  {
   "cell_type": "code",
   "execution_count": null,
   "metadata": {
    "tags": [
     "register model from file",
     "sample-model-register"
    ]
   },
   "outputs": [],
   "source": [
    "from azureml.core import Model\n",
    "from azureml.core.resource_configuration import ResourceConfiguration\n",
    "\n",
    "model = Model.register(workspace=ws,\n",
    "                       model_name='my-sklearn-model',                # Name of the registered model in your workspace.\n",
    "                       model_path='./sklearn_regression_model.pkl',  # Local file to upload and register as a model.\n",
    "                       model_framework=Model.Framework.SCIKITLEARN,  # Framework used to create the model.\n",
    "                       model_framework_version='0.19.1',             # Version of scikit-learn used to create the model.\n",
    "                       sample_input_dataset=input_dataset,\n",
    "                       sample_output_dataset=output_dataset,\n",
    "                       resource_configuration=ResourceConfiguration(cpu=1, memory_in_gb=0.5),\n",
    "                       description='Ridge regression model to predict diabetes progression.',\n",
    "                       tags={'area': 'diabetes', 'type': 'regression'})\n",
    "\n",
    "print('Name:', model.name)\n",
    "print('Version:', model.version)"
   ]
  },
  {
   "cell_type": "markdown",
   "metadata": {},
   "source": [
    "### モデルのデプロイ (ノーコード & カスタム)\n",
    "\n",
    "[Model.deploy()](https://docs.microsoft.com/en-us/python/api/azureml-core/azureml.core.model.model?view=azure-ml-py#deploy-workspace--name--models--inference-config--deployment-config-none--deployment-target-none-) メソッドを用いてモデルをデプロイします。本ノートブックでは、テスト環境でよく使われる Azure Container Instances (ACI) にデプロイします。※ 本番環境では、Azure Kubernetes Service (AKS) の利用を推奨。"
   ]
  },
  {
   "cell_type": "markdown",
   "metadata": {},
   "source": [
    "### ノーコードデプロイメント (preview)"
   ]
  },
  {
   "cell_type": "code",
   "execution_count": null,
   "metadata": {},
   "outputs": [],
   "source": [
    "from azureml.core import Webservice\n",
    "from azureml.exceptions import WebserviceException\n",
    "\n",
    "service_name = 'no-code'\n",
    "\n",
    "# 既存の推論環境で同じ名前のものを削除する\n",
    "try:\n",
    "    Webservice(ws, service_name).delete()\n",
    "except WebserviceException:\n",
    "    pass\n",
    "\n",
    "service = Model.deploy(ws, service_name, [model])\n",
    "service.wait_for_deployment(show_output=True)"
   ]
  },
  {
   "cell_type": "markdown",
   "metadata": {},
   "source": [
    "モデルのデプロイが完了したら、Web Service を Call して推論を行います。"
   ]
  },
  {
   "cell_type": "code",
   "execution_count": null,
   "metadata": {},
   "outputs": [],
   "source": [
    "import json\n",
    "\n",
    "input_payload = json.dumps({\n",
    "    'data': [\n",
    "        [ 0.03807591,  0.05068012,  0.06169621, 0.02187235, -0.0442235,\n",
    "         -0.03482076, -0.04340085, -0.00259226, 0.01990842, -0.01764613]\n",
    "    ],\n",
    "    'method': 'predict'  # If you have a classification model, you can get probabilities by changing this to 'predict_proba'.\n",
    "})\n",
    "\n",
    "output = service.run(input_payload)\n",
    "\n",
    "print(output)"
   ]
  },
  {
   "cell_type": "markdown",
   "metadata": {},
   "source": [
    "### カスタムコードのデプロイメント\n",
    "\n",
    "全ての機械学習ライブラリに対応する方法です。コードなしのデプロイとは違って推論スクリプトや Python ライブラリなどの情報が必要になります。\n",
    "\n",
    "Python のライブラリなどの情報は [Environment](https://docs.microsoft.com/en-us/python/api/azureml-core/azureml.core.environment%28class%29?view=azure-ml-py) で管理します。\n",
    "\n",
    "※ 参考:[Azure Machine Learning を使用してトレーニングとデプロイのための環境を再利用します。](https://docs.microsoft.com/ja-jp/azure/machine-learning/how-to-use-environments)"
   ]
  },
  {
   "cell_type": "code",
   "execution_count": null,
   "metadata": {},
   "outputs": [],
   "source": [
    "from azureml.core import Environment\n",
    "from azureml.core.conda_dependencies import CondaDependencies\n",
    "\n",
    "environment = Environment('my-sklearn-environment')\n",
    "environment.python.conda_dependencies = CondaDependencies.create(pip_packages=[\n",
    "    'azureml-defaults',\n",
    "    'inference-schema[numpy-support]',\n",
    "    'joblib',\n",
    "    'numpy',\n",
    "    'scikit-learn'\n",
    "])"
   ]
  },
  {
   "cell_type": "markdown",
   "metadata": {},
   "source": [
    "カスタムコードのデプロイにおいては、推論用の Python スクリプトが必須になります。"
   ]
  },
  {
   "cell_type": "code",
   "execution_count": null,
   "metadata": {},
   "outputs": [],
   "source": [
    "with open('score.py') as f:\n",
    "    print(f.read())"
   ]
  },
  {
   "cell_type": "markdown",
   "metadata": {},
   "source": [
    "[InferenceConfig](https://docs.microsoft.com/en-us/python/api/azureml-core/azureml.core.model.inferenceconfig?view=azure-ml-py) オブジェクトを[Model.deploy()](https://docs.microsoft.com/en-us/python/api/azureml-core/azureml.core.model.model?view=azure-ml-py#deploy-workspace--name--models--inference-config--deployment-config-none--deployment-target-none-)渡して、カスタムコードのデプロイメントを行います。"
   ]
  },
  {
   "cell_type": "code",
   "execution_count": null,
   "metadata": {
    "tags": [
     "azuremlexception-remarks-sample"
    ]
   },
   "outputs": [],
   "source": [
    "from azureml.core import Webservice\n",
    "from azureml.core.model import InferenceConfig\n",
    "from azureml.exceptions import WebserviceException\n",
    "\n",
    "service_name = 'my-custom-env-service'\n",
    "\n",
    "# 既存の推論環境で同じ名前のものを削除する\n",
    "try:\n",
    "    Webservice(ws, service_name).delete()\n",
    "except WebserviceException:\n",
    "    pass\n",
    "\n",
    "inference_config = InferenceConfig(entry_script='score.py',\n",
    "                                   source_directory='.',\n",
    "                                   environment=environment)\n",
    "\n",
    "service = Model.deploy(ws, service_name, [model], inference_config)\n",
    "service.wait_for_deployment(show_output=True)"
   ]
  },
  {
   "cell_type": "markdown",
   "metadata": {},
   "source": [
    "デプロイが完了したら、 [service.run()](https://docs.microsoft.com/en-us/python/api/azureml-core/azureml.core.webservice%28class%29?view=azure-ml-py#run-input-) を用いて推論を行います。"
   ]
  },
  {
   "cell_type": "code",
   "execution_count": null,
   "metadata": {},
   "outputs": [],
   "source": [
    "import json\n",
    "\n",
    "input_payload = json.dumps({\n",
    "    'data': [\n",
    "        [ 0.03807591,  0.05068012,  0.06169621, 0.02187235, -0.0442235,\n",
    "         -0.03482076, -0.04340085, -0.00259226, 0.01990842, -0.01764613]\n",
    "    ]\n",
    "})\n",
    "\n",
    "output = service.run(input_payload)\n",
    "\n",
    "print(output)"
   ]
  },
  {
   "cell_type": "code",
   "execution_count": null,
   "metadata": {},
   "outputs": [],
   "source": [
    "# Swagger ファイル (json) の取得\n",
    "service.swagger_uri"
   ]
  },
  {
   "cell_type": "markdown",
   "metadata": {},
   "source": [
    "### モデルのプロファイリング (Model profiling)\n",
    "\n",
    "必要な CPU と Memory のスペックをプロファイルすることもできます。\n",
    "\n",
    "```python\n",
    "profile = Model.profile(ws, \"profilename\", [model], inference_config, test_sample)\n",
    "profile.wait_for_profiling(True)\n",
    "profiling_results = profile.get_results()\n",
    "print(profiling_results)\n",
    "```"
   ]
  },
  {
   "cell_type": "markdown",
   "metadata": {},
   "source": [
    "### モデルのパッケージ化 (Model packaging)\n",
    "\n",
    "推論環境 を Docker イメージにパッケージ化することも可能です。Docker イメージは ACR に格納されます。\n",
    "\n",
    "`Model.package()` に Environment オブジェクトを渡す必要があります。\n",
    "\n",
    "```python\n",
    "package = Model.package(ws, [model], inference_config)\n",
    "package.wait_for_creation(show_output=True)  # Or show_output=False to hide the Docker build logs.\n",
    "package.pull()\n",
    "```\n",
    "\n",
    "Docker イメージをローカルでビルドするために必要な Dockerfile, モデル, およびその他のアセットをダウンロードすることもできます。\n",
    "\n",
    "```python\n",
    "package = Model.package(ws, [model], inference_config, generate_dockerfile=True)\n",
    "package.wait_for_creation(show_output=True)\n",
    "package.save(\"./local_context_dir\")\n",
    "```"
   ]
  }
 ],
 "metadata": {
  "authors": [
   {
    "name": "aashishb"
   }
  ],
  "category": "deployment",
  "compute": [
   "None"
  ],
  "datasets": [
   "Diabetes"
  ],
  "deployment": [
   "Azure Container Instance"
  ],
  "exclude_from_index": false,
  "framework": [
   "Scikit-learn"
  ],
  "friendly_name": "Register model and deploy as webservice",
  "index_order": 3,
  "kernelspec": {
   "display_name": "Python (bootcamp)",
   "language": "python",
   "name": "azureml-bootcamp"
  },
  "language_info": {
   "codemirror_mode": {
    "name": "ipython",
    "version": 3
   },
   "file_extension": ".py",
   "mimetype": "text/x-python",
   "name": "python",
   "nbconvert_exporter": "python",
   "pygments_lexer": "ipython3",
   "version": "3.6.8"
  },
  "star_tag": [
   "featured"
  ],
  "tags": [
   "None"
  ],
  "task": "Deploy a model with Azure Machine Learning"
 },
 "nbformat": 4,
 "nbformat_minor": 2
}
